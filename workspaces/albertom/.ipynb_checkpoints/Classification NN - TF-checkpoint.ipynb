{
 "cells": [
  {
   "cell_type": "markdown",
   "metadata": {},
   "source": [
    "# 0 - Import packages:"
   ]
  },
  {
   "cell_type": "code",
   "execution_count": 1,
   "metadata": {
    "collapsed": false
   },
   "outputs": [],
   "source": [
    "import pandas as pd\n",
    "import numpy as np\n",
    "import pylab as pl\n",
    "from matplotlib import collections  as mc\n",
    "from sklearn.model_selection import StratifiedKFold\n",
    "from mpl_toolkits.mplot3d import Axes3D\n",
    "import matplotlib.pyplot as plt\n",
    "import tensorflow as tf\n",
    "\n",
    "%matplotlib inline\n",
    "plt.rcParams['figure.figsize'] = (10.0, 5.0) # set default size of plots\n",
    "plt.rcParams['image.interpolation'] = 'nearest'\n",
    "plt.rcParams['image.cmap'] = 'gray'\n",
    "\n",
    "# for auto-reloading extenrnal modules\n",
    "# see http://stackoverflow.com/questions/1907993/autoreload-of-modules-in-ipython\n",
    "%load_ext autoreload\n",
    "%autoreload 2"
   ]
  },
  {
   "cell_type": "markdown",
   "metadata": {},
   "source": [
    "# 1 - Load data:"
   ]
  },
  {
   "cell_type": "markdown",
   "metadata": {},
   "source": [
    "## 1.1 - Train set: "
   ]
  },
  {
   "cell_type": "code",
   "execution_count": null,
   "metadata": {
    "collapsed": false
   },
   "outputs": [],
   "source": [
    "df_data_1 = pd.read_csv(\"../common/albertom/train_test_split/X_train_pca.csv\", index_col=\"Unnamed: 0\")\n",
    "# df_data_1 = df_data_1.head(500)\n",
    "print(df_data_1.shape)\n",
    "df_data_1.head()"
   ]
  },
  {
   "cell_type": "markdown",
   "metadata": {},
   "source": [
    "## 1.2 - Train labels:"
   ]
  },
  {
   "cell_type": "code",
   "execution_count": null,
   "metadata": {
    "collapsed": false
   },
   "outputs": [],
   "source": [
    "df_target_data_1 = pd.read_csv(\"../common/albertom/train_test_split/y_train.csv\", index_col=\"Unnamed: 0\")\n",
    "# df_target_data_1 = df_target_data_1.head(500)\n",
    "print(df_target_data_1.shape)\n",
    "df_target_data_1.head()"
   ]
  },
  {
   "cell_type": "markdown",
   "metadata": {},
   "source": [
    "## 1.3 - Test set:"
   ]
  },
  {
   "cell_type": "code",
   "execution_count": null,
   "metadata": {
    "collapsed": false
   },
   "outputs": [],
   "source": [
    "df_data_2 = pd.read_csv(\"../common/albertom/train_test_split/X_test_pca.csv\", index_col=\"Unnamed: 0\")\n",
    "# df_data_2 = df_data_2.head(100)\n",
    "print(df_data_2.shape)\n",
    "df_data_2.head()"
   ]
  },
  {
   "cell_type": "markdown",
   "metadata": {},
   "source": [
    "## 1.4 - Test labels:"
   ]
  },
  {
   "cell_type": "code",
   "execution_count": null,
   "metadata": {
    "collapsed": false
   },
   "outputs": [],
   "source": [
    "df_target_data_2 = pd.read_csv(\"../common/albertom/train_test_split/y_test.csv\", index_col=\"Unnamed: 0\")\n",
    "# df_target_data_2 = df_target_data_2.head(100)\n",
    "print(df_target_data_2.shape)\n",
    "df_target_data_2.head()"
   ]
  },
  {
   "cell_type": "markdown",
   "metadata": {},
   "source": [
    "# 2 - Globals:"
   ]
  },
  {
   "cell_type": "markdown",
   "metadata": {},
   "source": [
    "## 2.1 - Parameters "
   ]
  },
  {
   "cell_type": "code",
   "execution_count": null,
   "metadata": {
    "collapsed": false
   },
   "outputs": [],
   "source": [
    "n_folds = 3\n",
    "valid_size = df_data_1.shape[0]/n_folds\n",
    "batch_size = 128\n",
    "\n",
    "train_dataset = df_data_1.values\n",
    "test_dataset = df_data_2.values\n",
    "train_labels = df_target_data_1[\"0\"].values\n",
    "test_labels = df_target_data_2[\"0\"].values\n",
    "\n",
    "num_features = train_dataset.shape[1]\n",
    "num_examples = train_dataset.shape[0]\n",
    "distinct_labels = len(df_target_data_1[\"0\"].unique())"
   ]
  },
  {
   "cell_type": "markdown",
   "metadata": {},
   "source": [
    "## 2.2 - Tensorflow graph: "
   ]
  },
  {
   "cell_type": "code",
   "execution_count": null,
   "metadata": {
    "collapsed": false
   },
   "outputs": [],
   "source": [
    "graph = tf.Graph()\n",
    "with graph.as_default():\n",
    "\n",
    "    # Input data.\n",
    "    X = tf.placeholder(tf.float32, shape=(batch_size, num_features))\n",
    "    t = tf.placeholder(tf.float32, shape=(batch_size, distinct_labels))\n",
    "    X_unseen = tf.placeholder(tf.float32, shape=(valid_size, num_features))\n",
    "    \n",
    "    L2_reg = tf.placeholder(tf.float32, shape=[])\n",
    "    learning_rate = tf.placeholder(tf.float32, shape=[])\n",
    "\n",
    "    # Variables.\n",
    "    num_hidden1 = 10\n",
    "    num_hidden2 = 7\n",
    "    \n",
    "    W1 = tf.Variable(tf.truncated_normal([num_features, num_hidden1]) )\n",
    "    b1 = tf.Variable(tf.zeros([num_hidden1]))\n",
    "\n",
    "    W2 = tf.Variable(tf.truncated_normal([num_hidden1, distinct_labels]))\n",
    "    b2 = tf.Variable(tf.zeros([distinct_labels]))\n",
    "    \n",
    "    # Training.\n",
    "    h1 = tf.nn.relu(tf.matmul(X, W1) + b1)\n",
    "    logits = tf.matmul(h1, W2) + b2\n",
    "    \n",
    "    # Loss NO reg.\n",
    "    loss = tf.reduce_mean(tf.nn.softmax_cross_entropy_with_logits(logits, t))\n",
    "    regularization = (tf.nn.l2_loss(W1) + tf.nn.l2_loss(b1) + tf.nn.l2_loss(W2) + tf.nn.l2_loss(b2))\n",
    "    loss = loss + L2_reg * regularization\n",
    "\n",
    "    # Optimizer.\n",
    "    optimizer = tf.train.GradientDescentOptimizer(learning_rate=learning_rate).minimize(loss)\n",
    "\n",
    "    # Predictions for training, validation.\n",
    "    train_predictions = tf.nn.softmax(logits)\n",
    "    unseen_predictions = tf.nn.softmax(tf.matmul(tf.nn.relu(tf.matmul(X_unseen, W1) + b1), W2) + b2)"
   ]
  },
  {
   "cell_type": "markdown",
   "metadata": {},
   "source": [
    "## 2.3 - Functions:"
   ]
  },
  {
   "cell_type": "code",
   "execution_count": null,
   "metadata": {
    "collapsed": false
   },
   "outputs": [],
   "source": [
    "# Given a set of model parameters (learning rate, regularization penalty coefficient), find the optimal parameters with cross validation\n",
    "\n",
    "def cross_validation(set_of_learning_rates, set_of_regs, X_train, y_train):\n",
    "    \n",
    "    # Get train-validation set stratified (keeps the same distribution) splitter\n",
    "    skf = StratifiedKFold(n_splits=3)\n",
    "    set_of_params = [(x,y) for x in set_of_learning_rates for y in set_of_regs]\n",
    "    \n",
    "    print(\"Number of folds: \" + str(n_folds))\n",
    "    print(\"Number of parameters combinations: \" + str(len(set_of_params)))\n",
    "    print(\"We will train \" + str(n_folds * len(set_of_params)) + \" neural networks for this cv task.\")\n",
    "    \n",
    "    f1 = np.zeros(len(set_of_params))\n",
    "\n",
    "    # Repeat for every train-validate combination \n",
    "    for cv_train_index, cv_val_index in skf.split(X_train, y_train):\n",
    "        \n",
    "        X_cv_train, X_cv_val = X_train[cv_train_index], X_train[cv_val_index]\n",
    "        y_cv_train, y_cv_val = y_train[cv_train_index], y_train[cv_val_index]\n",
    "        with tf.Session(graph=graph) as session:\n",
    "            for param_idx, param in enumerate(set_of_params):\n",
    "                \n",
    "                print(str(param_idx) + \" ) Combination: [Parameters: \" +  str(param) + \" | Train model]\")\n",
    "                for step in np.arange(num_steps):\n",
    "                    \n",
    "                    offset = (step * batch_size) % (num_examples - batch_size)\n",
    "                    X_batch = X_cv_train[offset:(offset + batch_size), :]\n",
    "                    t_batch = y_cv_train[offset:(offset + batch_size), :]\n",
    "                    feed_dict = {\n",
    "                        X : X_batch,\n",
    "                        t : t_batch,\n",
    "                        X_unseen : X_cv_val,\n",
    "                        L2_reg : param[1],\n",
    "                        learning_rate : param[0]\n",
    "                    }\n",
    "                    _, l, pred_batch = session.run( [optimizer, loss, train_predictions], feed_dict=feed_dict)\n",
    "                    \n",
    "                    if (step % 500 == 0):\n",
    "                        print(\"> Minibatch loss at step %d: %f\" % (step, l))\n",
    "                        print(\"> Minibatch f1: %.1f%%\" % f1(pred_batch, t_batch))\n",
    "                        print(\"> Validation f1: %.1f%%\" % f1(unseen_predictions.eval(), y_cv_val) )\n",
    "                \n",
    "                f1_cv = f1(valid_predictions.eval(), y_cv_val)\n",
    "                print(\"|> Final Validation f1: %.1f%%\" % f1_cv)\n",
    "                f1[param_idx] = f1[param_idx] + f1_cv\n",
    "\n",
    "    f1 = f1 / n_folds # Calculate average error\n",
    "    \n",
    "\n",
    "    print(\">>>>>> Best [learning rate - f1] = \", set_of_params[np.argmax(f1)][1])\n",
    "    print(\">>>>>> BEST [reg - f1] = \", set_of_params[np.argmax(f1)][0])\n",
    "\n",
    "    return set_of_params[np.argmax(f1)]"
   ]
  },
  {
   "cell_type": "code",
   "execution_count": null,
   "metadata": {
    "collapsed": true
   },
   "outputs": [],
   "source": [
    "def f1(predicted_classes, real_classes):\n",
    "    return f1_score(real_classes, predicted_classes)"
   ]
  },
  {
   "cell_type": "markdown",
   "metadata": {},
   "source": [
    "# 3 - Training: "
   ]
  },
  {
   "cell_type": "markdown",
   "metadata": {},
   "source": [
    "## 3.1 - Cross validation for optimal hyperparameters:"
   ]
  },
  {
   "cell_type": "code",
   "execution_count": null,
   "metadata": {
    "collapsed": true
   },
   "outputs": [],
   "source": [
    "set_of_learning_rates = np.arange(0.01, 0.03, step=0.01)\n",
    "set_of_L2_regs = np.arange(0.01, 0.03, step=0.01)\n",
    "\n",
    "print(\"Cross-validation for [learning rate, L2_reg].\")\n",
    "\n",
    "best_params = cross_validation(set_of_learning_rates, set_of_L2_regs, train_dataset, train_labels)\n",
    "\n",
    "best_learning_rate = best_params[0]\n",
    "best_L2_reg = best_params[1]\n",
    "\n",
    "print(\"Best parameters: [\" + str(best_learning_rate) + \", \" str(best_L2_reg) + \"]\")"
   ]
  },
  {
   "cell_type": "markdown",
   "metadata": {},
   "source": [
    "## 3.2 - Prediction using optimal hyperparameters:"
   ]
  },
  {
   "cell_type": "code",
   "execution_count": null,
   "metadata": {
    "collapsed": true
   },
   "outputs": [],
   "source": [
    "print(\"Prediction for test set.\")\n",
    "\n",
    "with tf.Session(graph=graph) as session:\n",
    "    for param_idx, param in enumerate(set_of_params):\n",
    "                \n",
    "    print(str(param_idx) + \" ) Combination: [Parameters: \" +  str(param) + \" | Train model]\")\n",
    "        for step in np.arange(num_steps):\n",
    "                    \n",
    "            X_batch = X_cv_train[offset:(offset + batch_size), :]\n",
    "            t_batch = y_cv_train[offset:(offset + batch_size), :]\n",
    "            offset = (step * batch_size) % (num_examples - batch_size)\n",
    "            feed_dict = {\n",
    "                X : X_batch,\n",
    "                t : t_batch,\n",
    "                X_unseen : test_dataset,\n",
    "                L2_reg : best_L2_reg,\n",
    "                learning_rate : best_learning_rate\n",
    "            }\n",
    "            if (step % 500 == 0):\n",
    "                print(\"> Minibatch loss at step %d: %f\" % (step, l))\n",
    "                print(\"> Minibatch f1: %.1f%%\" % f1(pred_batch, t_batch))\n",
    "                print(\"> Validation f1: %.1f%%\" % f1(unseen_predictions.eval(), y_cv_val) )\n",
    "                \n",
    "        f1_test = f1(unseen_predictions.eval(), test_labels)\n",
    "        print(\"|> Test f1: %.1f%%\" % f1_test)"
   ]
  }
 ],
 "metadata": {
  "kernelspec": {
   "display_name": "Python 3",
   "language": "python",
   "name": "python3"
  },
  "language_info": {
   "codemirror_mode": {
    "name": "ipython",
    "version": 3
   },
   "file_extension": ".py",
   "mimetype": "text/x-python",
   "name": "python",
   "nbconvert_exporter": "python",
   "pygments_lexer": "ipython3",
   "version": "3.6.0"
  }
 },
 "nbformat": 4,
 "nbformat_minor": 2
}
