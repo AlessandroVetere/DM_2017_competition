{
 "cells": [
  {
   "cell_type": "code",
   "execution_count": 1,
   "metadata": {
    "collapsed": true
   },
   "outputs": [],
   "source": [
    "# Import required packages\n",
    "import pandas as pd\n",
    "import numpy as np\n",
    "import matplotlib.pyplot as plt\n",
    "%matplotlib inline\n",
    "from scipy.stats import zscore\n",
    "from sklearn.decomposition import PCA\n",
    "import pylab as pl\n",
    "from matplotlib import collections  as mc\n",
    "from mpl_toolkits.mplot3d import Axes3D\n",
    "import pickle\n",
    "import codecs\n",
    "%matplotlib inline\n",
    "plt.rcParams['figure.figsize'] = (10.0, 7.5) # set default size of plots\n",
    "plt.rcParams['image.interpolation'] = 'nearest'\n",
    "plt.rcParams['image.cmap'] = 'gray'"
   ]
  },
  {
   "cell_type": "code",
   "execution_count": 54,
   "metadata": {
    "collapsed": false
   },
   "outputs": [],
   "source": [
    "df = pd.read_csv(\"../common/dataset.csv\")\n",
    "df_t = df[['DEFAULT PAYMENT JAN','CUST_COD']]\n",
    "\n",
    "df = df.set_index(['CUST_COD'], drop=True)\n",
    "df = df.drop(\"DEFAULT PAYMENT JAN\",1)\n",
    "df.index.name = None\n",
    "\n",
    "df_t = df_t.set_index(['CUST_COD'], drop=True)\n",
    "df_t.index.name = None"
   ]
  },
  {
   "cell_type": "code",
   "execution_count": 55,
   "metadata": {
    "collapsed": false
   },
   "outputs": [
    {
     "name": "stdout",
     "output_type": "stream",
     "text": [
      "(26884, 23)\n"
     ]
    },
    {
     "data": {
      "text/html": [
       "<div>\n",
       "<table border=\"1\" class=\"dataframe\">\n",
       "  <thead>\n",
       "    <tr style=\"text-align: right;\">\n",
       "      <th></th>\n",
       "      <th>LIMIT_BAL</th>\n",
       "      <th>SEX</th>\n",
       "      <th>EDUCATION</th>\n",
       "      <th>MARRIAGE</th>\n",
       "      <th>BIRTH_DATE</th>\n",
       "      <th>PAY_DEC</th>\n",
       "      <th>PAY_NOV</th>\n",
       "      <th>PAY_OCT</th>\n",
       "      <th>PAY_SEP</th>\n",
       "      <th>PAY_AUG</th>\n",
       "      <th>...</th>\n",
       "      <th>BILL_AMT_OCT</th>\n",
       "      <th>BILL_AMT_SEP</th>\n",
       "      <th>BILL_AMT_AUG</th>\n",
       "      <th>BILL_AMT_JUL</th>\n",
       "      <th>PAY_AMT_DEC</th>\n",
       "      <th>PAY_AMT_NOV</th>\n",
       "      <th>PAY_AMT_OCT</th>\n",
       "      <th>PAY_AMT_SEP</th>\n",
       "      <th>PAY_AMT_AUG</th>\n",
       "      <th>PAY_AMT_JUL</th>\n",
       "    </tr>\n",
       "  </thead>\n",
       "  <tbody>\n",
       "    <tr>\n",
       "      <th>53613503</th>\n",
       "      <td>1490.680</td>\n",
       "      <td>M</td>\n",
       "      <td>university</td>\n",
       "      <td>single</td>\n",
       "      <td>NaN</td>\n",
       "      <td>0</td>\n",
       "      <td>0</td>\n",
       "      <td>0</td>\n",
       "      <td>0</td>\n",
       "      <td>2</td>\n",
       "      <td>...</td>\n",
       "      <td>581.961472</td>\n",
       "      <td>629.156401</td>\n",
       "      <td>599.283174</td>\n",
       "      <td>608.257067</td>\n",
       "      <td>89.440800</td>\n",
       "      <td>149.06800</td>\n",
       "      <td>68.571280</td>\n",
       "      <td>0.000000</td>\n",
       "      <td>29.81360</td>\n",
       "      <td>59.627200</td>\n",
       "    </tr>\n",
       "    <tr>\n",
       "      <th>35524089</th>\n",
       "      <td>5664.584</td>\n",
       "      <td>M</td>\n",
       "      <td>university</td>\n",
       "      <td>married</td>\n",
       "      <td>04/01/1983</td>\n",
       "      <td>0</td>\n",
       "      <td>0</td>\n",
       "      <td>0</td>\n",
       "      <td>0</td>\n",
       "      <td>0</td>\n",
       "      <td>...</td>\n",
       "      <td>3137.285128</td>\n",
       "      <td>533.872135</td>\n",
       "      <td>-2.772665</td>\n",
       "      <td>-14.399969</td>\n",
       "      <td>149.068000</td>\n",
       "      <td>159.83071</td>\n",
       "      <td>29.813600</td>\n",
       "      <td>0.000000</td>\n",
       "      <td>0.00000</td>\n",
       "      <td>0.000000</td>\n",
       "    </tr>\n",
       "    <tr>\n",
       "      <th>58777007</th>\n",
       "      <td>6260.856</td>\n",
       "      <td>F</td>\n",
       "      <td>high school</td>\n",
       "      <td>married</td>\n",
       "      <td>02/01/1975</td>\n",
       "      <td>0</td>\n",
       "      <td>0</td>\n",
       "      <td>-1</td>\n",
       "      <td>-1</td>\n",
       "      <td>-2</td>\n",
       "      <td>...</td>\n",
       "      <td>10.852150</td>\n",
       "      <td>-19.349026</td>\n",
       "      <td>-19.349026</td>\n",
       "      <td>-19.349026</td>\n",
       "      <td>59.627200</td>\n",
       "      <td>532.59015</td>\n",
       "      <td>16.963938</td>\n",
       "      <td>0.000000</td>\n",
       "      <td>0.00000</td>\n",
       "      <td>29.813600</td>\n",
       "    </tr>\n",
       "    <tr>\n",
       "      <th>26913418</th>\n",
       "      <td>8944.080</td>\n",
       "      <td>F</td>\n",
       "      <td>graduate school</td>\n",
       "      <td>married</td>\n",
       "      <td>15/01/1977</td>\n",
       "      <td>-2</td>\n",
       "      <td>-2</td>\n",
       "      <td>-2</td>\n",
       "      <td>-2</td>\n",
       "      <td>-2</td>\n",
       "      <td>...</td>\n",
       "      <td>216.744872</td>\n",
       "      <td>88.546392</td>\n",
       "      <td>70.330282</td>\n",
       "      <td>253.177091</td>\n",
       "      <td>80.556347</td>\n",
       "      <td>217.22189</td>\n",
       "      <td>88.784901</td>\n",
       "      <td>70.628418</td>\n",
       "      <td>298.46395</td>\n",
       "      <td>216.416922</td>\n",
       "    </tr>\n",
       "    <tr>\n",
       "      <th>41993633</th>\n",
       "      <td>3577.632</td>\n",
       "      <td>F</td>\n",
       "      <td>graduate school</td>\n",
       "      <td>married</td>\n",
       "      <td>09/01/1978</td>\n",
       "      <td>-1</td>\n",
       "      <td>-1</td>\n",
       "      <td>-1</td>\n",
       "      <td>-1</td>\n",
       "      <td>-1</td>\n",
       "      <td>...</td>\n",
       "      <td>29.813600</td>\n",
       "      <td>0.000000</td>\n",
       "      <td>569.439760</td>\n",
       "      <td>0.000000</td>\n",
       "      <td>119.254400</td>\n",
       "      <td>29.81360</td>\n",
       "      <td>0.000000</td>\n",
       "      <td>569.439760</td>\n",
       "      <td>0.00000</td>\n",
       "      <td>0.000000</td>\n",
       "    </tr>\n",
       "  </tbody>\n",
       "</table>\n",
       "<p>5 rows × 23 columns</p>\n",
       "</div>"
      ],
      "text/plain": [
       "          LIMIT_BAL SEX        EDUCATION MARRIAGE  BIRTH_DATE  PAY_DEC  \\\n",
       "53613503   1490.680   M       university   single         NaN        0   \n",
       "35524089   5664.584   M       university  married  04/01/1983        0   \n",
       "58777007   6260.856   F      high school  married  02/01/1975        0   \n",
       "26913418   8944.080   F  graduate school  married  15/01/1977       -2   \n",
       "41993633   3577.632   F  graduate school  married  09/01/1978       -1   \n",
       "\n",
       "          PAY_NOV  PAY_OCT  PAY_SEP  PAY_AUG     ...       BILL_AMT_OCT  \\\n",
       "53613503        0        0        0        2     ...         581.961472   \n",
       "35524089        0        0        0        0     ...        3137.285128   \n",
       "58777007        0       -1       -1       -2     ...          10.852150   \n",
       "26913418       -2       -2       -2       -2     ...         216.744872   \n",
       "41993633       -1       -1       -1       -1     ...          29.813600   \n",
       "\n",
       "          BILL_AMT_SEP  BILL_AMT_AUG  BILL_AMT_JUL  PAY_AMT_DEC  PAY_AMT_NOV  \\\n",
       "53613503    629.156401    599.283174    608.257067    89.440800    149.06800   \n",
       "35524089    533.872135     -2.772665    -14.399969   149.068000    159.83071   \n",
       "58777007    -19.349026    -19.349026    -19.349026    59.627200    532.59015   \n",
       "26913418     88.546392     70.330282    253.177091    80.556347    217.22189   \n",
       "41993633      0.000000    569.439760      0.000000   119.254400     29.81360   \n",
       "\n",
       "          PAY_AMT_OCT  PAY_AMT_SEP  PAY_AMT_AUG  PAY_AMT_JUL  \n",
       "53613503    68.571280     0.000000     29.81360    59.627200  \n",
       "35524089    29.813600     0.000000      0.00000     0.000000  \n",
       "58777007    16.963938     0.000000      0.00000    29.813600  \n",
       "26913418    88.784901    70.628418    298.46395   216.416922  \n",
       "41993633     0.000000   569.439760      0.00000     0.000000  \n",
       "\n",
       "[5 rows x 23 columns]"
      ]
     },
     "execution_count": 55,
     "metadata": {},
     "output_type": "execute_result"
    }
   ],
   "source": [
    "print df.shape\n",
    "df.head()"
   ]
  },
  {
   "cell_type": "code",
   "execution_count": 56,
   "metadata": {
    "collapsed": false
   },
   "outputs": [
    {
     "name": "stdout",
     "output_type": "stream",
     "text": [
      "(26884, 1)\n"
     ]
    },
    {
     "data": {
      "text/html": [
       "<div>\n",
       "<table border=\"1\" class=\"dataframe\">\n",
       "  <thead>\n",
       "    <tr style=\"text-align: right;\">\n",
       "      <th></th>\n",
       "      <th>DEFAULT PAYMENT JAN</th>\n",
       "    </tr>\n",
       "  </thead>\n",
       "  <tbody>\n",
       "    <tr>\n",
       "      <th>53613503</th>\n",
       "      <td>0</td>\n",
       "    </tr>\n",
       "    <tr>\n",
       "      <th>35524089</th>\n",
       "      <td>1</td>\n",
       "    </tr>\n",
       "    <tr>\n",
       "      <th>58777007</th>\n",
       "      <td>0</td>\n",
       "    </tr>\n",
       "    <tr>\n",
       "      <th>26913418</th>\n",
       "      <td>0</td>\n",
       "    </tr>\n",
       "    <tr>\n",
       "      <th>41993633</th>\n",
       "      <td>1</td>\n",
       "    </tr>\n",
       "  </tbody>\n",
       "</table>\n",
       "</div>"
      ],
      "text/plain": [
       "          DEFAULT PAYMENT JAN\n",
       "53613503                    0\n",
       "35524089                    1\n",
       "58777007                    0\n",
       "26913418                    0\n",
       "41993633                    1"
      ]
     },
     "execution_count": 56,
     "metadata": {},
     "output_type": "execute_result"
    }
   ],
   "source": [
    "print df_t.shape\n",
    "df_t.head()"
   ]
  },
  {
   "cell_type": "markdown",
   "metadata": {
    "collapsed": false,
    "scrolled": false
   },
   "source": [
    "test_1 = df.head(24)\n",
    "fig, axarr = plt.subplots(8, 3,figsize=(90, 150))\n",
    "fig.suptitle(\"TEST\", fontsize=40)\n",
    "\n",
    "x = np.arange(6)\n",
    "for index,b in enumerate(test_1.iterrows()):\n",
    "    bill_amt = []\n",
    "    i = index%8\n",
    "    j = index%3\n",
    "    bill_amt.append(b[1][11])\n",
    "    bill_amt.append(b[1][12])\n",
    "    bill_amt.append(b[1][13])\n",
    "    bill_amt.append(b[1][14])\n",
    "    bill_amt.append(b[1][15])\n",
    "    bill_amt.append(b[1][16])\n",
    "    \n",
    "    axarr[i,j].scatter(x,bill_amt)\n",
    "    axarr[i,j].plot(x,bill_amt)\n",
    "    axarr[i,j].set_title(str(index), size=30)\n",
    "    \n",
    "for index,p in enumerate(test_1.iterrows()):\n",
    "    pay_amt = []\n",
    "    i = index%8\n",
    "    j = index%3\n",
    "    pay_amt.append(p[1][17])\n",
    "    pay_amt.append(p[1][18])\n",
    "    pay_amt.append(p[1][19])\n",
    "    pay_amt.append(p[1][20])\n",
    "    pay_amt.append(p[1][21])\n",
    "    pay_amt.append(p[1][22])\n",
    "    \n",
    "    axarr[i,j].scatter(x,pay_amt)\n",
    "    axarr[i,j].plot(x,pay_amt)\n",
    "\n",
    "plt.show()"
   ]
  },
  {
   "cell_type": "code",
   "execution_count": 57,
   "metadata": {
    "collapsed": false
   },
   "outputs": [],
   "source": [
    "df = df.iloc[[1]]\n",
    "#for col in df.columns:\n",
    "#    df = df.drop([col])\n",
    "df1 = df.copy()\n",
    "df2 = df.copy()"
   ]
  },
  {
   "cell_type": "code",
   "execution_count": 58,
   "metadata": {
    "collapsed": false,
    "scrolled": false
   },
   "outputs": [],
   "source": [
    "df1[\"SHOP_JUL\"] = df.apply(lambda row : row[\"BILL_AMT_JUL\"] - 0 - row[\"PAY_AMT_JUL\"], axis=1)\n",
    "df1[\"SHOP_AUG\"] = df.apply(lambda row : row[\"BILL_AMT_AUG\"] - row[\"BILL_AMT_JUL\"] + row[\"PAY_AMT_AUG\"], axis=1)\n",
    "df1[\"SHOP_SEP\"] = df.apply(lambda row : row[\"BILL_AMT_SEP\"] - row[\"BILL_AMT_AUG\"] + row[\"PAY_AMT_SEP\"], axis=1)\n",
    "df1[\"SHOP_OCT\"] = df.apply(lambda row : row[\"BILL_AMT_OCT\"] - row[\"BILL_AMT_SEP\"] + row[\"PAY_AMT_OCT\"], axis=1)\n",
    "df1[\"SHOP_NOV\"] = df.apply(lambda row : row[\"BILL_AMT_NOV\"] - row[\"BILL_AMT_OCT\"] + row[\"PAY_AMT_NOV\"], axis=1)\n",
    "df1[\"SHOP_DEC\"] = df.apply(lambda row : row[\"BILL_AMT_DEC\"] - row[\"BILL_AMT_NOV\"] + row[\"PAY_AMT_DEC\"], axis=1)"
   ]
  },
  {
   "cell_type": "code",
   "execution_count": 62,
   "metadata": {
    "collapsed": false
   },
   "outputs": [],
   "source": [
    "#this columns contain for each month the difference between how much the person has spent and how much has repaid\n",
    "# NOW WE CAN ALSO DIVIDE EACH NET VALUE FOR THE LIMIT BALL !\n",
    "\n",
    "df2[\"SHOP_JUL_NET\"] = df1.apply(lambda row : -( row[\"SHOP_JUL\"] - row[\"PAY_AMT_JUL\"]), axis=1)\n",
    "df2[\"SHOP_AUG_NET\"] = df1.apply(lambda row : -( row[\"SHOP_AUG\"] - row[\"PAY_AMT_AUG\"]), axis=1)\n",
    "df2[\"SHOP_SEP_NET\"] = df1.apply(lambda row : -( row[\"SHOP_SEP\"] - row[\"PAY_AMT_SEP\"]), axis=1)\n",
    "df2[\"SHOP_OCT_NET\"] = df1.apply(lambda row : -( row[\"SHOP_OCT\"] - row[\"PAY_AMT_OCT\"]), axis=1)\n",
    "df2[\"SHOP_NOV_NET\"] = df1.apply(lambda row : -( row[\"SHOP_NOV\"] - row[\"PAY_AMT_NOV\"]), axis=1)\n",
    "df2[\"SHOP_DEC_NET\"] = df1.apply(lambda row : -( row[\"SHOP_DEC\"] - row[\"PAY_AMT_DEC\"]), axis=1)"
   ]
  },
  {
   "cell_type": "code",
   "execution_count": 63,
   "metadata": {
    "collapsed": false
   },
   "outputs": [
    {
     "data": {
      "text/html": [
       "<div>\n",
       "<table border=\"1\" class=\"dataframe\">\n",
       "  <thead>\n",
       "    <tr style=\"text-align: right;\">\n",
       "      <th></th>\n",
       "      <th>LIMIT_BAL</th>\n",
       "      <th>SEX</th>\n",
       "      <th>EDUCATION</th>\n",
       "      <th>MARRIAGE</th>\n",
       "      <th>BIRTH_DATE</th>\n",
       "      <th>PAY_DEC</th>\n",
       "      <th>PAY_NOV</th>\n",
       "      <th>PAY_OCT</th>\n",
       "      <th>PAY_SEP</th>\n",
       "      <th>PAY_AUG</th>\n",
       "      <th>...</th>\n",
       "      <th>PAY_AMT_OCT</th>\n",
       "      <th>PAY_AMT_SEP</th>\n",
       "      <th>PAY_AMT_AUG</th>\n",
       "      <th>PAY_AMT_JUL</th>\n",
       "      <th>SHOP_JUL</th>\n",
       "      <th>SHOP_AUG</th>\n",
       "      <th>SHOP_SEP</th>\n",
       "      <th>SHOP_OCT</th>\n",
       "      <th>SHOP_NOV</th>\n",
       "      <th>SHOP_DEC</th>\n",
       "    </tr>\n",
       "  </thead>\n",
       "  <tbody>\n",
       "    <tr>\n",
       "      <th>35524089</th>\n",
       "      <td>5664.584</td>\n",
       "      <td>M</td>\n",
       "      <td>university</td>\n",
       "      <td>married</td>\n",
       "      <td>04/01/1983</td>\n",
       "      <td>0</td>\n",
       "      <td>0</td>\n",
       "      <td>0</td>\n",
       "      <td>0</td>\n",
       "      <td>0</td>\n",
       "      <td>...</td>\n",
       "      <td>29.814</td>\n",
       "      <td>0.0</td>\n",
       "      <td>0.0</td>\n",
       "      <td>0.0</td>\n",
       "      <td>-14.4</td>\n",
       "      <td>11.627</td>\n",
       "      <td>536.645</td>\n",
       "      <td>2633.227</td>\n",
       "      <td>68.72</td>\n",
       "      <td>48.894</td>\n",
       "    </tr>\n",
       "  </tbody>\n",
       "</table>\n",
       "<p>1 rows × 29 columns</p>\n",
       "</div>"
      ],
      "text/plain": [
       "          LIMIT_BAL SEX   EDUCATION MARRIAGE  BIRTH_DATE  PAY_DEC  PAY_NOV  \\\n",
       "35524089   5664.584   M  university  married  04/01/1983        0        0   \n",
       "\n",
       "          PAY_OCT  PAY_SEP  PAY_AUG    ...     PAY_AMT_OCT  PAY_AMT_SEP  \\\n",
       "35524089        0        0        0    ...          29.814          0.0   \n",
       "\n",
       "          PAY_AMT_AUG  PAY_AMT_JUL  SHOP_JUL  SHOP_AUG  SHOP_SEP  SHOP_OCT  \\\n",
       "35524089          0.0          0.0     -14.4    11.627   536.645  2633.227   \n",
       "\n",
       "          SHOP_NOV  SHOP_DEC  \n",
       "35524089     68.72    48.894  \n",
       "\n",
       "[1 rows x 29 columns]"
      ]
     },
     "execution_count": 63,
     "metadata": {},
     "output_type": "execute_result"
    }
   ],
   "source": [
    "df1.round(3)"
   ]
  },
  {
   "cell_type": "code",
   "execution_count": 64,
   "metadata": {
    "collapsed": false
   },
   "outputs": [
    {
     "data": {
      "text/html": [
       "<div>\n",
       "<table border=\"1\" class=\"dataframe\">\n",
       "  <thead>\n",
       "    <tr style=\"text-align: right;\">\n",
       "      <th></th>\n",
       "      <th>LIMIT_BAL</th>\n",
       "      <th>SEX</th>\n",
       "      <th>EDUCATION</th>\n",
       "      <th>MARRIAGE</th>\n",
       "      <th>BIRTH_DATE</th>\n",
       "      <th>PAY_DEC</th>\n",
       "      <th>PAY_NOV</th>\n",
       "      <th>PAY_OCT</th>\n",
       "      <th>PAY_SEP</th>\n",
       "      <th>PAY_AUG</th>\n",
       "      <th>...</th>\n",
       "      <th>PAY_AMT_OCT</th>\n",
       "      <th>PAY_AMT_SEP</th>\n",
       "      <th>PAY_AMT_AUG</th>\n",
       "      <th>PAY_AMT_JUL</th>\n",
       "      <th>SHOP_JUL_NET</th>\n",
       "      <th>SHOP_AUG_NET</th>\n",
       "      <th>SHOP_SEP_NET</th>\n",
       "      <th>SHOP_OCT_NET</th>\n",
       "      <th>SHOP_NOV_NET</th>\n",
       "      <th>SHOP_DEC_NET</th>\n",
       "    </tr>\n",
       "  </thead>\n",
       "  <tbody>\n",
       "    <tr>\n",
       "      <th>35524089</th>\n",
       "      <td>5664.584</td>\n",
       "      <td>M</td>\n",
       "      <td>university</td>\n",
       "      <td>married</td>\n",
       "      <td>04/01/1983</td>\n",
       "      <td>0</td>\n",
       "      <td>0</td>\n",
       "      <td>0</td>\n",
       "      <td>0</td>\n",
       "      <td>0</td>\n",
       "      <td>...</td>\n",
       "      <td>29.814</td>\n",
       "      <td>0.0</td>\n",
       "      <td>0.0</td>\n",
       "      <td>0.0</td>\n",
       "      <td>14.4</td>\n",
       "      <td>-11.627</td>\n",
       "      <td>-536.645</td>\n",
       "      <td>-2603.413</td>\n",
       "      <td>91.11</td>\n",
       "      <td>100.174</td>\n",
       "    </tr>\n",
       "  </tbody>\n",
       "</table>\n",
       "<p>1 rows × 29 columns</p>\n",
       "</div>"
      ],
      "text/plain": [
       "          LIMIT_BAL SEX   EDUCATION MARRIAGE  BIRTH_DATE  PAY_DEC  PAY_NOV  \\\n",
       "35524089   5664.584   M  university  married  04/01/1983        0        0   \n",
       "\n",
       "          PAY_OCT  PAY_SEP  PAY_AUG      ...       PAY_AMT_OCT  PAY_AMT_SEP  \\\n",
       "35524089        0        0        0      ...            29.814          0.0   \n",
       "\n",
       "          PAY_AMT_AUG  PAY_AMT_JUL  SHOP_JUL_NET  SHOP_AUG_NET  SHOP_SEP_NET  \\\n",
       "35524089          0.0          0.0          14.4       -11.627      -536.645   \n",
       "\n",
       "          SHOP_OCT_NET  SHOP_NOV_NET  SHOP_DEC_NET  \n",
       "35524089     -2603.413         91.11       100.174  \n",
       "\n",
       "[1 rows x 29 columns]"
      ]
     },
     "execution_count": 64,
     "metadata": {},
     "output_type": "execute_result"
    }
   ],
   "source": [
    "df2.round(3)"
   ]
  },
  {
   "cell_type": "code",
   "execution_count": 11,
   "metadata": {
    "collapsed": false
   },
   "outputs": [
    {
     "data": {
      "text/plain": [
       "[<matplotlib.lines.Line2D at 0x1154b6b50>]"
      ]
     },
     "execution_count": 11,
     "metadata": {},
     "output_type": "execute_result"
    },
    {
     "data": {
      "image/png": "[encoded data removed]",
      "text/plain": [
       "<matplotlib.figure.Figure at 0x11542e7d0>"
      ]
     },
     "metadata": {},
     "output_type": "display_data"
    }
   ],
   "source": [
    "test_1 = df1.loc[[50206169]]\n",
    "x = np.arange(6)\n",
    "\n",
    "bill_amt = []\n",
    "bill_amt.append(test_1.iloc[:, 11].values[0])\n",
    "bill_amt.append(test_1.iloc[:, 12].values[0])\n",
    "bill_amt.append(test_1.iloc[:, 13].values[0])\n",
    "bill_amt.append(test_1.iloc[:, 14].values[0])\n",
    "bill_amt.append(test_1.iloc[:, 15].values[0])\n",
    "bill_amt.append(test_1.iloc[:, 16].values[0])\n",
    "plt.scatter(x,bill_amt)\n",
    "plt.plot(x,bill_amt)\n",
    "    \n",
    "pay_amt = []\n",
    "pay_amt.append(test_1.iloc[:, 17].values[0])\n",
    "pay_amt.append(test_1.iloc[:, 18].values[0])\n",
    "pay_amt.append(test_1.iloc[:, 19].values[0])\n",
    "pay_amt.append(test_1.iloc[:, 20].values[0])\n",
    "pay_amt.append(test_1.iloc[:, 21].values[0])\n",
    "pay_amt.append(test_1.iloc[:, 22].values[0])\n",
    "plt.scatter(x,pay_amt)\n",
    "plt.plot(x,pay_amt)\n",
    "    \n",
    "x = np.arange(5)\n",
    "outgoing_amt = []\n",
    "outgoing_amt.append(test_1.iloc[:, 23].values[0])\n",
    "outgoing_amt.append(test_1.iloc[:, 24].values[0])\n",
    "outgoing_amt.append(test_1.iloc[:, 25].values[0])\n",
    "outgoing_amt.append(test_1.iloc[:, 26].values[0])\n",
    "outgoing_amt.append(test_1.iloc[:, 27].values[0])\n",
    "plt.scatter(x,outgoing_amt)\n",
    "plt.plot(x,outgoing_amt)"
   ]
  }
 ],
 "metadata": {
  "kernelspec": {
   "display_name": "Python 2",
   "language": "python",
   "name": "python2"
  },
  "language_info": {
   "codemirror_mode": {
    "name": "ipython",
    "version": 2
   },
   "file_extension": ".py",
   "mimetype": "text/x-python",
   "name": "python",
   "nbconvert_exporter": "python",
   "pygments_lexer": "ipython2",
   "version": "2.7.13"
  }
 },
 "nbformat": 4,
 "nbformat_minor": 2
}
