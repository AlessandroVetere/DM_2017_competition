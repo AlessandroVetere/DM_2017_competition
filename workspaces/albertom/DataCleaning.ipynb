{
 "cells": [
  {
   "cell_type": "code",
   "execution_count": 62,
   "metadata": {
    "collapsed": true
   },
   "outputs": [],
   "source": [
    "# Import required packages\n",
    "import pandas as pd\n",
    "import numpy as np\n",
    "import matplotlib.pyplot as plt\n",
    "%matplotlib inline\n",
    "from scipy.stats import zscore\n",
    "from sklearn.decomposition import PCA\n",
    "import pylab as pl\n",
    "from matplotlib import collections  as mc\n",
    "from mpl_toolkits.mplot3d import Axes3D\n",
    "import pickle\n",
    "import codecs\n",
    "%matplotlib inline\n",
    "plt.rcParams['figure.figsize'] = (30.0, 25) # set default size of plots\n",
    "plt.rcParams['image.interpolation'] = 'nearest'\n",
    "plt.rcParams['image.cmap'] = 'gray'"
   ]
  },
  {
   "cell_type": "code",
   "execution_count": 63,
   "metadata": {
    "collapsed": false
   },
   "outputs": [],
   "source": [
    "df = pd.read_csv(\"../common/dataset.csv\")\n",
    "df_t = df[['DEFAULT PAYMENT JAN','CUST_COD']]\n",
    "\n",
    "df = df.set_index(['CUST_COD'], drop=True)\n",
    "df = df.drop(\"DEFAULT PAYMENT JAN\",1)\n",
    "df.index.name = None\n",
    "\n",
    "df_t = df_t.set_index(['CUST_COD'], drop=True)\n",
    "df_t.index.name = None\n",
    "\n",
    "df_real = df.copy()"
   ]
  },
  {
   "cell_type": "code",
   "execution_count": 64,
   "metadata": {
    "collapsed": false,
    "scrolled": true
   },
   "outputs": [
    {
     "name": "stdout",
     "output_type": "stream",
     "text": [
      "(26884, 23)\n"
     ]
    }
   ],
   "source": [
    "print df_real.shape\n",
    "#df_real.head(30)"
   ]
  },
  {
   "cell_type": "code",
   "execution_count": 65,
   "metadata": {
    "collapsed": false
   },
   "outputs": [
    {
     "name": "stdout",
     "output_type": "stream",
     "text": [
      "(26884, 1)\n"
     ]
    },
    {
     "data": {
      "text/html": [
       "<div>\n",
       "<table border=\"1\" class=\"dataframe\">\n",
       "  <thead>\n",
       "    <tr style=\"text-align: right;\">\n",
       "      <th></th>\n",
       "      <th>DEFAULT PAYMENT JAN</th>\n",
       "    </tr>\n",
       "  </thead>\n",
       "  <tbody>\n",
       "    <tr>\n",
       "      <th>53613503</th>\n",
       "      <td>0</td>\n",
       "    </tr>\n",
       "    <tr>\n",
       "      <th>35524089</th>\n",
       "      <td>1</td>\n",
       "    </tr>\n",
       "    <tr>\n",
       "      <th>58777007</th>\n",
       "      <td>0</td>\n",
       "    </tr>\n",
       "    <tr>\n",
       "      <th>26913418</th>\n",
       "      <td>0</td>\n",
       "    </tr>\n",
       "    <tr>\n",
       "      <th>41993633</th>\n",
       "      <td>1</td>\n",
       "    </tr>\n",
       "  </tbody>\n",
       "</table>\n",
       "</div>"
      ],
      "text/plain": [
       "          DEFAULT PAYMENT JAN\n",
       "53613503                    0\n",
       "35524089                    1\n",
       "58777007                    0\n",
       "26913418                    0\n",
       "41993633                    1"
      ]
     },
     "execution_count": 65,
     "metadata": {},
     "output_type": "execute_result"
    }
   ],
   "source": [
    "print df_t.shape\n",
    "df_t.head()"
   ]
  },
  {
   "cell_type": "markdown",
   "metadata": {
    "collapsed": false,
    "scrolled": false
   },
   "source": [
    "test_1 = df.head(24)\n",
    "fig, axarr = plt.subplots(8, 3,figsize=(90, 150))\n",
    "fig.suptitle(\"TEST\", fontsize=40)\n",
    "\n",
    "x = np.arange(6)\n",
    "for index,b in enumerate(test_1.iterrows()):\n",
    "    bill_amt = []\n",
    "    i = index%8\n",
    "    j = index%3\n",
    "    bill_amt.append(b[1][11])\n",
    "    bill_amt.append(b[1][12])\n",
    "    bill_amt.append(b[1][13])\n",
    "    bill_amt.append(b[1][14])\n",
    "    bill_amt.append(b[1][15])\n",
    "    bill_amt.append(b[1][16])\n",
    "    \n",
    "    axarr[i,j].scatter(x,bill_amt)\n",
    "    axarr[i,j].plot(x,bill_amt)\n",
    "    axarr[i,j].set_title(str(index), size=30)\n",
    "    \n",
    "for index,p in enumerate(test_1.iterrows()):\n",
    "    pay_amt = []\n",
    "    i = index%8\n",
    "    j = index%3\n",
    "    pay_amt.append(p[1][17])\n",
    "    pay_amt.append(p[1][18])\n",
    "    pay_amt.append(p[1][19])\n",
    "    pay_amt.append(p[1][20])\n",
    "    pay_amt.append(p[1][21])\n",
    "    pay_amt.append(p[1][22])\n",
    "    \n",
    "    axarr[i,j].scatter(x,pay_amt)\n",
    "    axarr[i,j].plot(x,pay_amt)\n",
    "\n",
    "plt.show()"
   ]
  },
  {
   "cell_type": "code",
   "execution_count": 126,
   "metadata": {
    "collapsed": false
   },
   "outputs": [],
   "source": [
    "SAMPLE = 12696362\n",
    "#df = df.loc[[SAMPLE]]\n",
    "df = df_real\n",
    "dt = df_t\n",
    "df1 = df.copy()\n",
    "df2 = df.copy()\n",
    "df3 = df.copy()\n",
    "colors = {0:'r', 1:'b'}"
   ]
  },
  {
   "cell_type": "code",
   "execution_count": 127,
   "metadata": {
    "collapsed": false,
    "scrolled": false
   },
   "outputs": [],
   "source": [
    "df1[\"SHOP_JUL\"] = df.apply(lambda row : row[\"BILL_AMT_JUL\"] - 0 - row[\"PAY_AMT_JUL\"], axis=1)\n",
    "df1[\"SHOP_AUG\"] = df.apply(lambda row : row[\"BILL_AMT_AUG\"] - row[\"BILL_AMT_JUL\"] + row[\"PAY_AMT_AUG\"], axis=1)\n",
    "df1[\"SHOP_SEP\"] = df.apply(lambda row : row[\"BILL_AMT_SEP\"] - row[\"BILL_AMT_AUG\"] + row[\"PAY_AMT_SEP\"], axis=1)\n",
    "df1[\"SHOP_OCT\"] = df.apply(lambda row : row[\"BILL_AMT_OCT\"] - row[\"BILL_AMT_SEP\"] + row[\"PAY_AMT_OCT\"], axis=1)\n",
    "df1[\"SHOP_NOV\"] = df.apply(lambda row : row[\"BILL_AMT_NOV\"] - row[\"BILL_AMT_OCT\"] + row[\"PAY_AMT_NOV\"], axis=1)\n",
    "df1[\"SHOP_DEC\"] = df.apply(lambda row : row[\"BILL_AMT_DEC\"] - row[\"BILL_AMT_NOV\"] + row[\"PAY_AMT_DEC\"], axis=1)"
   ]
  },
  {
   "cell_type": "code",
   "execution_count": 128,
   "metadata": {
    "collapsed": false
   },
   "outputs": [],
   "source": [
    "#this columns contain for each month the difference between how much the person has spent and how much has repaid\n",
    "# USCITE AL NETTO DEI REPAY\n",
    "df2[\"SHOP_JUL_NET\"] = df1.apply(lambda row : row[\"SHOP_JUL\"] - row[\"PAY_AMT_JUL\"], axis=1)\n",
    "df2[\"SHOP_AUG_NET\"] = df1.apply(lambda row : row[\"SHOP_AUG\"] - row[\"PAY_AMT_AUG\"], axis=1)\n",
    "df2[\"SHOP_SEP_NET\"] = df1.apply(lambda row : row[\"SHOP_SEP\"] - row[\"PAY_AMT_SEP\"], axis=1)\n",
    "df2[\"SHOP_OCT_NET\"] = df1.apply(lambda row : row[\"SHOP_OCT\"] - row[\"PAY_AMT_OCT\"], axis=1)\n",
    "df2[\"SHOP_NOV_NET\"] = df1.apply(lambda row : row[\"SHOP_NOV\"] - row[\"PAY_AMT_NOV\"], axis=1)\n",
    "df2[\"SHOP_DEC_NET\"] = df1.apply(lambda row : row[\"SHOP_DEC\"] - row[\"PAY_AMT_DEC\"], axis=1)"
   ]
  },
  {
   "cell_type": "code",
   "execution_count": 129,
   "metadata": {
    "collapsed": false
   },
   "outputs": [],
   "source": [
    "# NOW WE CAN ALSO DIVIDE EACH NET VALUE FOR THE LIMIT BALL !\n",
    "\n",
    "df3[\"SHOP_JUL_NET\"] = df2.apply(lambda row : ( row[\"SHOP_JUL_NET\"] ) / row[\"LIMIT_BAL\"], axis=1)\n",
    "df3[\"SHOP_AUG_NET\"] = df2.apply(lambda row : ( row[\"SHOP_AUG_NET\"] ) / row[\"LIMIT_BAL\"], axis=1)\n",
    "df3[\"SHOP_SEP_NET\"] = df2.apply(lambda row : ( row[\"SHOP_SEP_NET\"] ) / row[\"LIMIT_BAL\"], axis=1)\n",
    "df3[\"SHOP_OCT_NET\"] = df2.apply(lambda row : ( row[\"SHOP_OCT_NET\"] ) / row[\"LIMIT_BAL\"], axis=1)\n",
    "df3[\"SHOP_NOV_NET\"] = df2.apply(lambda row : ( row[\"SHOP_NOV_NET\"] ) / row[\"LIMIT_BAL\"], axis=1)\n",
    "df3[\"SHOP_DEC_NET\"] = df2.apply(lambda row : ( row[\"SHOP_DEC_NET\"] ) / row[\"LIMIT_BAL\"], axis=1)"
   ]
  },
  {
   "cell_type": "code",
   "execution_count": 130,
   "metadata": {
    "collapsed": false
   },
   "outputs": [],
   "source": [
    "df1 = df1[df1.columns[-6:]]\n",
    "df2 = df2[df2.columns[-6:]]\n",
    "df3 = df3[df3.columns[-6:]]\n",
    "df1[\"TARGET\"] = dt[\"DEFAULT PAYMENT JAN\"].values\n",
    "df2[\"TARGET\"] = dt[\"DEFAULT PAYMENT JAN\"].values\n",
    "df3[\"TARGET\"] = dt[\"DEFAULT PAYMENT JAN\"].values\n",
    "df1[\"TARGET\"] = df1[\"TARGET\"].apply(lambda x: colors[x])\n",
    "df2[\"TARGET\"] = df2[\"TARGET\"].apply(lambda x: colors[x])\n",
    "df3[\"TARGET\"] = df3[\"TARGET\"].apply(lambda x: colors[x])"
   ]
  },
  {
   "cell_type": "code",
   "execution_count": 131,
   "metadata": {
    "collapsed": false,
    "scrolled": false
   },
   "outputs": [
    {
     "name": "stdout",
     "output_type": "stream",
     "text": [
      "(26884, 7)\n"
     ]
    }
   ],
   "source": [
    "print df1.shape\n",
    "#df1.round(3)"
   ]
  },
  {
   "cell_type": "code",
   "execution_count": 132,
   "metadata": {
    "collapsed": false,
    "scrolled": true
   },
   "outputs": [
    {
     "name": "stdout",
     "output_type": "stream",
     "text": [
      "(26884, 7)\n"
     ]
    }
   ],
   "source": [
    "print df2.shape\n",
    "#df2.round(3)"
   ]
  },
  {
   "cell_type": "code",
   "execution_count": null,
   "metadata": {
    "collapsed": false,
    "scrolled": true
   },
   "outputs": [
    {
     "name": "stdout",
     "output_type": "stream",
     "text": [
      "(26884, 7)\n"
     ]
    }
   ],
   "source": [
    "print df3.shape\n",
    "#df3.round(3)"
   ]
  },
  {
   "cell_type": "markdown",
   "metadata": {
    "collapsed": false
   },
   "source": [
    "x = np.arange(6)\n",
    "\n",
    "bill_amt = []\n",
    "bill_amt.append(df.loc[[SAMPLE]].iloc[:, 16].values[0])\n",
    "bill_amt.append(df.loc[[SAMPLE]].iloc[:, 15].values[0])\n",
    "bill_amt.append(df.loc[[SAMPLE]].iloc[:, 14].values[0])\n",
    "bill_amt.append(df.loc[[SAMPLE]].iloc[:, 13].values[0])\n",
    "bill_amt.append(df.loc[[SAMPLE]].iloc[:, 12].values[0])\n",
    "bill_amt.append(df.loc[[SAMPLE]].iloc[:, 11].values[0])\n",
    "plt.scatter(x, bill_amt)\n",
    "plt.plot(x, bill_amt, label='BILL_AMT')\n",
    "    \n",
    "pay_amt = []\n",
    "pay_amt.append(df.loc[[SAMPLE]].iloc[:, 22].values[0])\n",
    "pay_amt.append(df.loc[[SAMPLE]].iloc[:, 21].values[0])\n",
    "pay_amt.append(df.loc[[SAMPLE]].iloc[:, 20].values[0])\n",
    "pay_amt.append(df.loc[[SAMPLE]].iloc[:, 19].values[0])\n",
    "pay_amt.append(df.loc[[SAMPLE]].iloc[:, 18].values[0])\n",
    "pay_amt.append(df.loc[[SAMPLE]].iloc[:, 17].values[0])\n",
    "plt.scatter(x, pay_amt)\n",
    "plt.plot(x, pay_amt, label='PAY_AMT') \n",
    "\n",
    "pl.xlabel(\"MONTH\")\n",
    "pl.legend(loc='upper left')"
   ]
  },
  {
   "cell_type": "code",
   "execution_count": null,
   "metadata": {
    "collapsed": false,
    "scrolled": false
   },
   "outputs": [],
   "source": [
    "x = np.arange(6)\n",
    "for SAMPLE in df1.index:\n",
    "    outgoing_amt = []\n",
    "    outgoing_amt.append(df1.loc[[SAMPLE]].iloc[:, 0].values[0])\n",
    "    outgoing_amt.append(df1.loc[[SAMPLE]].iloc[:, 1].values[0])\n",
    "    outgoing_amt.append(df1.loc[[SAMPLE]].iloc[:, 2].values[0])\n",
    "    outgoing_amt.append(df1.loc[[SAMPLE]].iloc[:, 3].values[0])\n",
    "    outgoing_amt.append(df1.loc[[SAMPLE]].iloc[:, 4].values[0])\n",
    "    outgoing_amt.append(df1.loc[[SAMPLE]].iloc[:, 5].values[0])\n",
    "    #plt.scatter(x, outgoing_amt)\n",
    "    plt.plot(x, outgoing_amt, c=df1.loc[[SAMPLE]].iloc[:, 6].values[0], alpha=0.35)"
   ]
  },
  {
   "cell_type": "code",
   "execution_count": null,
   "metadata": {
    "collapsed": false
   },
   "outputs": [],
   "source": [
    "for SAMPLE in df2.index:\n",
    "    outgoing_amt_net = []\n",
    "    outgoing_amt_net.append(df2.loc[[SAMPLE]].iloc[:, 0].values[0])\n",
    "    outgoing_amt_net.append(df2.loc[[SAMPLE]].iloc[:, 1].values[0])\n",
    "    outgoing_amt_net.append(df2.loc[[SAMPLE]].iloc[:, 2].values[0])\n",
    "    outgoing_amt_net.append(df2.loc[[SAMPLE]].iloc[:, 3].values[0])\n",
    "    outgoing_amt_net.append(df2.loc[[SAMPLE]].iloc[:, 4].values[0])\n",
    "    outgoing_amt_net.append(df2.loc[[SAMPLE]].iloc[:, 5].values[0])\n",
    "    #plt.scatter(x, outgoing_amt_net)\n",
    "    plt.plot(x, outgoing_amt_net, c=df1.loc[[SAMPLE]].iloc[:, 6].values[0])\n",
    "    #pl.xlabel(\"MONTH\")"
   ]
  },
  {
   "cell_type": "code",
   "execution_count": null,
   "metadata": {
    "collapsed": false
   },
   "outputs": [],
   "source": [
    "for SAMPLE in df3.index:\n",
    "    outgoing_amt_net_norm = []\n",
    "    outgoing_amt_net_norm.append(df3.loc[[SAMPLE]].iloc[:, 0].values[0])\n",
    "    outgoing_amt_net_norm.append(df3.loc[[SAMPLE]].iloc[:, 1].values[0])\n",
    "    outgoing_amt_net_norm.append(df3.loc[[SAMPLE]].iloc[:, 2].values[0])\n",
    "    outgoing_amt_net_norm.append(df3.loc[[SAMPLE]].iloc[:, 3].values[0])\n",
    "    outgoing_amt_net_norm.append(df3.loc[[SAMPLE]].iloc[:, 4].values[0])\n",
    "    outgoing_amt_net_norm.append(df3.loc[[SAMPLE]].iloc[:, 5].values[0])\n",
    "    #plt.scatter(x, outgoing_amt_net_norm)\n",
    "    plt.plot(x, outgoing_amt_net_norm, c=df1.loc[[SAMPLE]].iloc[:, 6].values[0])\n",
    "    #pl.xlabel(\"MONTH\")"
   ]
  }
 ],
 "metadata": {
  "kernelspec": {
   "display_name": "Python 2",
   "language": "python",
   "name": "python2"
  },
  "language_info": {
   "codemirror_mode": {
    "name": "ipython",
    "version": 2
   },
   "file_extension": ".py",
   "mimetype": "text/x-python",
   "name": "python",
   "nbconvert_exporter": "python",
   "pygments_lexer": "ipython2",
   "version": "2.7.13"
  }
 },
 "nbformat": 4,
 "nbformat_minor": 2
}
