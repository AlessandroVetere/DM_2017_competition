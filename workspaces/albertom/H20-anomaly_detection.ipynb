{
 "cells": [
  {
   "cell_type": "code",
   "execution_count": 161,
   "metadata": {
    "collapsed": false,
    "run_control": {
     "frozen": false,
     "read_only": false
    }
   },
   "outputs": [],
   "source": [
    "%matplotlib inline\n",
    "\n",
    "import pandas as pd\n",
    "import numpy as np\n",
    "import matplotlib\n",
    "import matplotlib.pyplot as plt\n",
    "from pylab import rcParams\n",
    "import seaborn\n",
    "rcParams['figure.figsize'] = 20, 12\n"
   ]
  },
  {
   "cell_type": "code",
   "execution_count": 162,
   "metadata": {
    "collapsed": false,
    "run_control": {
     "frozen": false,
     "read_only": false
    }
   },
   "outputs": [
    {
     "name": "stdout",
     "output_type": "stream",
     "text": [
      "Checking whether there is an H2O instance running at http://localhost:54321. connected.\n"
     ]
    },
    {
     "data": {
      "text/html": [
       "<div style=\"overflow:auto\"><table style=\"width:50%\"><tr><td>H2O cluster uptime:</td>\n",
       "<td>1 hour 28 mins</td></tr>\n",
       "<tr><td>H2O cluster version:</td>\n",
       "<td>3.10.4.7</td></tr>\n",
       "<tr><td>H2O cluster version age:</td>\n",
       "<td>10 days </td></tr>\n",
       "<tr><td>H2O cluster name:</td>\n",
       "<td>H2O_from_python_albertomariopirovano_6zbq57</td></tr>\n",
       "<tr><td>H2O cluster total nodes:</td>\n",
       "<td>1</td></tr>\n",
       "<tr><td>H2O cluster free memory:</td>\n",
       "<td>1.570 Gb</td></tr>\n",
       "<tr><td>H2O cluster total cores:</td>\n",
       "<td>4</td></tr>\n",
       "<tr><td>H2O cluster allowed cores:</td>\n",
       "<td>4</td></tr>\n",
       "<tr><td>H2O cluster status:</td>\n",
       "<td>locked, healthy</td></tr>\n",
       "<tr><td>H2O connection url:</td>\n",
       "<td>http://localhost:54321</td></tr>\n",
       "<tr><td>H2O connection proxy:</td>\n",
       "<td>None</td></tr>\n",
       "<tr><td>H2O internal security:</td>\n",
       "<td>False</td></tr>\n",
       "<tr><td>Python version:</td>\n",
       "<td>2.7.13 final</td></tr></table></div>"
      ],
      "text/plain": [
       "--------------------------  -------------------------------------------\n",
       "H2O cluster uptime:         1 hour 28 mins\n",
       "H2O cluster version:        3.10.4.7\n",
       "H2O cluster version age:    10 days\n",
       "H2O cluster name:           H2O_from_python_albertomariopirovano_6zbq57\n",
       "H2O cluster total nodes:    1\n",
       "H2O cluster free memory:    1.570 Gb\n",
       "H2O cluster total cores:    4\n",
       "H2O cluster allowed cores:  4\n",
       "H2O cluster status:         locked, healthy\n",
       "H2O connection url:         http://localhost:54321\n",
       "H2O connection proxy:\n",
       "H2O internal security:      False\n",
       "Python version:             2.7.13 final\n",
       "--------------------------  -------------------------------------------"
      ]
     },
     "metadata": {},
     "output_type": "display_data"
    }
   ],
   "source": [
    "import h2o\n",
    "    \n",
    "# Start H2O on your local machine\n",
    "h2o.init()"
   ]
  },
  {
   "cell_type": "code",
   "execution_count": 167,
   "metadata": {
    "collapsed": false,
    "run_control": {
     "frozen": false,
     "read_only": false
    }
   },
   "outputs": [
    {
     "name": "stdout",
     "output_type": "stream",
     "text": [
      "Parse progress: |█████████████████████████████████████████████████████████| 100%\n",
      "Parse progress: |█████████████████████████████████████████████████████████| 100%\n"
     ]
    }
   ],
   "source": [
    "X_train = h2o.import_file(\"../chapter_9/X_train.csv\")\n",
    "X_test = h2o.import_file(\"../chapter_9/X_test.csv\")"
   ]
  },
  {
   "cell_type": "code",
   "execution_count": 175,
   "metadata": {
    "collapsed": false
   },
   "outputs": [],
   "source": [
    "X_train = X_train.drop([0])\n",
    "X_test = X_test.drop([0])\n",
    "X_train = X_train[1:,:]\n",
    "X_test = X_test[1:,:]"
   ]
  },
  {
   "cell_type": "code",
   "execution_count": 176,
   "metadata": {
    "collapsed": false,
    "run_control": {
     "frozen": false,
     "read_only": false
    }
   },
   "outputs": [],
   "source": [
    "from matplotlib import cm\n",
    "\n",
    "def plot_bidimensional(model, test, recon_error, layer, title):\n",
    "\n",
    "    bidimensional_data = model.deepfeatures(test, layer).cbind(recon_error).as_data_frame()\n",
    "\n",
    "    cmap = cm.get_cmap('Spectral')\n",
    "\n",
    "    fig, ax = plt.subplots()\n",
    "    bidimensional_data.plot(kind='scatter', \n",
    "                            x='DF.L{}.C1'.format(layer+1), \n",
    "                            y='DF.L{}.C2'.format(layer+1), \n",
    "                            s = 500,\n",
    "                            c = 'Reconstruction.MSE',\n",
    "                            title = title,\n",
    "                            ax = ax,\n",
    "                            colormap=cmap)\n",
    "    layer_column = 'DF.L{}.C'.format(layer + 1)\n",
    "    columns = [layer_column + '1', layer_column + '2']\n",
    "    for k, v in bidimensional_data[columns].iterrows():\n",
    "        ax.annotate(k, v, size=20, verticalalignment='bottom', horizontalalignment='left')\n",
    "    fig.canvas.draw()\n"
   ]
  },
  {
   "cell_type": "code",
   "execution_count": 178,
   "metadata": {
    "collapsed": false,
    "run_control": {
     "frozen": false,
     "read_only": false
    }
   },
   "outputs": [],
   "source": [
    "from h2o.estimators.deeplearning import H2OAutoEncoderEstimator\n",
    "seed = 13\n",
    "\n",
    "model = H2OAutoEncoderEstimator(\n",
    "    activation=\"Tanh\",\n",
    "    hidden=[50, 20, 2, 20, 50],\n",
    "    epochs=100,\n",
    "    #sparse=True,\n",
    "    #l1=1e-5,\n",
    "    seed=seed,\n",
    "    reproducible=True)"
   ]
  },
  {
   "cell_type": "code",
   "execution_count": null,
   "metadata": {
    "collapsed": false,
    "run_control": {
     "frozen": false,
     "read_only": false
    }
   },
   "outputs": [
    {
     "name": "stdout",
     "output_type": "stream",
     "text": [
      "deeplearning Model Build progress: |█████████████████████"
     ]
    }
   ],
   "source": [
    "model.train(\n",
    "    x=X_train.names,\n",
    "    training_frame=X_train\n",
    ")\n",
    "\n",
    "recon_error = model.anomaly(X_test)\n",
    "plot_bidimensional(model, X_test, recon_error, 2, \"2D representation of data points seed {}\".format(seed))"
   ]
  },
  {
   "cell_type": "code",
   "execution_count": null,
   "metadata": {
    "collapsed": false,
    "run_control": {
     "frozen": false,
     "read_only": false
    }
   },
   "outputs": [],
   "source": [
    "model"
   ]
  },
  {
   "cell_type": "code",
   "execution_count": null,
   "metadata": {
    "collapsed": false,
    "run_control": {
     "frozen": false,
     "read_only": false
    }
   },
   "outputs": [],
   "source": [
    "plt.figure()\n",
    "df=recon_error.as_data_frame(True)\n",
    "df[\"sample_index\"]=df.index\n",
    "df.plot(kind=\"scatter\", x=\"sample_index\", y=\"Reconstruction.MSE\", \n",
    "        title = \"reconstruction error\", s = 500)"
   ]
  },
  {
   "cell_type": "code",
   "execution_count": null,
   "metadata": {
    "collapsed": false,
    "run_control": {
     "frozen": false,
     "read_only": false
    }
   },
   "outputs": [],
   "source": [
    "len(recon_error)"
   ]
  },
  {
   "cell_type": "code",
   "execution_count": null,
   "metadata": {
    "collapsed": false,
    "run_control": {
     "frozen": false,
     "read_only": false
    }
   },
   "outputs": [],
   "source": [
    "model.deepfeatures(X_train, 1).as_data_frame().plot(kind='scatter', x='DF.L2.C1', y='DF.L2.C2')"
   ]
  },
  {
   "cell_type": "markdown",
   "metadata": {
    "collapsed": true,
    "run_control": {
     "frozen": false,
     "read_only": false
    }
   },
   "source": [
    "Anomaly detection using compressed representation"
   ]
  },
  {
   "cell_type": "code",
   "execution_count": 87,
   "metadata": {
    "collapsed": false,
    "run_control": {
     "frozen": false,
     "read_only": false
    },
    "scrolled": false
   },
   "outputs": [
    {
     "name": "stdout",
     "output_type": "stream",
     "text": [
      "deeplearning Model Build progress: |████ (cancelled)\n"
     ]
    },
    {
     "ename": "H2OJobCancelled",
     "evalue": "Job<$03017f00000132d4ffffffff$_b2f69b858c52d0f22f6a722e59ee4d2f> was cancelled by the user.",
     "output_type": "error",
     "traceback": [
      "\u001b[0;31m---------------------------------------------------------------------------\u001b[0m",
      "\u001b[0;31mH2OJobCancelled\u001b[0m                           Traceback (most recent call last)",
      "\u001b[0;32m<ipython-input-87-e1bb71353d1e>\u001b[0m in \u001b[0;36m<module>\u001b[0;34m()\u001b[0m\n\u001b[1;32m     10\u001b[0m     model.train(\n\u001b[1;32m     11\u001b[0m     \u001b[0mx\u001b[0m\u001b[0;34m=\u001b[0m\u001b[0mX_train\u001b[0m\u001b[0;34m.\u001b[0m\u001b[0mnames\u001b[0m\u001b[0;34m,\u001b[0m\u001b[0;34m\u001b[0m\u001b[0m\n\u001b[0;32m---> 12\u001b[0;31m     training_frame=X_train)\n\u001b[0m\u001b[1;32m     13\u001b[0m \u001b[0;34m\u001b[0m\u001b[0m\n\u001b[1;32m     14\u001b[0m     \u001b[0mrecon_error\u001b[0m \u001b[0;34m=\u001b[0m \u001b[0mmodel\u001b[0m\u001b[0;34m.\u001b[0m\u001b[0manomaly\u001b[0m\u001b[0;34m(\u001b[0m\u001b[0mX_test\u001b[0m\u001b[0;34m)\u001b[0m\u001b[0;34m\u001b[0m\u001b[0m\n",
      "\u001b[0;32m/Users/albertomariopirovano/anaconda3/envs/py27/lib/python2.7/site-packages/h2o/estimators/estimator_base.pyc\u001b[0m in \u001b[0;36mtrain\u001b[0;34m(self, x, y, training_frame, offset_column, fold_column, weights_column, validation_frame, max_runtime_secs, ignored_columns, model_id)\u001b[0m\n\u001b[1;32m    202\u001b[0m             \u001b[0;32mreturn\u001b[0m\u001b[0;34m\u001b[0m\u001b[0m\n\u001b[1;32m    203\u001b[0m \u001b[0;34m\u001b[0m\u001b[0m\n\u001b[0;32m--> 204\u001b[0;31m         \u001b[0mmodel\u001b[0m\u001b[0;34m.\u001b[0m\u001b[0mpoll\u001b[0m\u001b[0;34m(\u001b[0m\u001b[0;34m)\u001b[0m\u001b[0;34m\u001b[0m\u001b[0m\n\u001b[0m\u001b[1;32m    205\u001b[0m         \u001b[0mmodel_json\u001b[0m \u001b[0;34m=\u001b[0m \u001b[0mh2o\u001b[0m\u001b[0;34m.\u001b[0m\u001b[0mapi\u001b[0m\u001b[0;34m(\u001b[0m\u001b[0;34m\"GET /%d/Models/%s\"\u001b[0m \u001b[0;34m%\u001b[0m \u001b[0;34m(\u001b[0m\u001b[0mrest_ver\u001b[0m\u001b[0;34m,\u001b[0m \u001b[0mmodel\u001b[0m\u001b[0;34m.\u001b[0m\u001b[0mdest_key\u001b[0m\u001b[0;34m)\u001b[0m\u001b[0;34m)\u001b[0m\u001b[0;34m[\u001b[0m\u001b[0;34m\"models\"\u001b[0m\u001b[0;34m]\u001b[0m\u001b[0;34m[\u001b[0m\u001b[0;36m0\u001b[0m\u001b[0;34m]\u001b[0m\u001b[0;34m\u001b[0m\u001b[0m\n\u001b[1;32m    206\u001b[0m         \u001b[0mself\u001b[0m\u001b[0;34m.\u001b[0m\u001b[0m_resolve_model\u001b[0m\u001b[0;34m(\u001b[0m\u001b[0mmodel\u001b[0m\u001b[0;34m.\u001b[0m\u001b[0mdest_key\u001b[0m\u001b[0;34m,\u001b[0m \u001b[0mmodel_json\u001b[0m\u001b[0;34m)\u001b[0m\u001b[0;34m\u001b[0m\u001b[0m\n",
      "\u001b[0;32m/Users/albertomariopirovano/anaconda3/envs/py27/lib/python2.7/site-packages/h2o/job.pyc\u001b[0m in \u001b[0;36mpoll\u001b[0;34m(self)\u001b[0m\n\u001b[1;32m     67\u001b[0m         \u001b[0;31m# check if failed... and politely print relevant message\u001b[0m\u001b[0;34m\u001b[0m\u001b[0;34m\u001b[0m\u001b[0m\n\u001b[1;32m     68\u001b[0m         \u001b[0;32mif\u001b[0m \u001b[0mself\u001b[0m\u001b[0;34m.\u001b[0m\u001b[0mstatus\u001b[0m \u001b[0;34m==\u001b[0m \u001b[0;34m\"CANCELLED\"\u001b[0m\u001b[0;34m:\u001b[0m\u001b[0;34m\u001b[0m\u001b[0m\n\u001b[0;32m---> 69\u001b[0;31m             \u001b[0;32mraise\u001b[0m \u001b[0mH2OJobCancelled\u001b[0m\u001b[0;34m(\u001b[0m\u001b[0;34m\"Job<%s> was cancelled by the user.\"\u001b[0m \u001b[0;34m%\u001b[0m \u001b[0mself\u001b[0m\u001b[0;34m.\u001b[0m\u001b[0mjob_key\u001b[0m\u001b[0;34m)\u001b[0m\u001b[0;34m\u001b[0m\u001b[0m\n\u001b[0m\u001b[1;32m     70\u001b[0m         \u001b[0;32mif\u001b[0m \u001b[0mself\u001b[0m\u001b[0;34m.\u001b[0m\u001b[0mstatus\u001b[0m \u001b[0;34m==\u001b[0m \u001b[0;34m\"FAILED\"\u001b[0m\u001b[0;34m:\u001b[0m\u001b[0;34m\u001b[0m\u001b[0m\n\u001b[1;32m     71\u001b[0m             \u001b[0;32mif\u001b[0m \u001b[0;34m(\u001b[0m\u001b[0misinstance\u001b[0m\u001b[0;34m(\u001b[0m\u001b[0mself\u001b[0m\u001b[0;34m.\u001b[0m\u001b[0mjob\u001b[0m\u001b[0;34m,\u001b[0m \u001b[0mdict\u001b[0m\u001b[0;34m)\u001b[0m\u001b[0;34m)\u001b[0m \u001b[0;32mand\u001b[0m \u001b[0;34m(\u001b[0m\u001b[0;34m\"stacktrace\"\u001b[0m \u001b[0;32min\u001b[0m \u001b[0mlist\u001b[0m\u001b[0;34m(\u001b[0m\u001b[0mself\u001b[0m\u001b[0;34m.\u001b[0m\u001b[0mjob\u001b[0m\u001b[0;34m)\u001b[0m\u001b[0;34m)\u001b[0m\u001b[0;34m:\u001b[0m\u001b[0;34m\u001b[0m\u001b[0m\n",
      "\u001b[0;31mH2OJobCancelled\u001b[0m: Job<$03017f00000132d4ffffffff$_b2f69b858c52d0f22f6a722e59ee4d2f> was cancelled by the user."
     ]
    }
   ],
   "source": [
    "for seed in range(1, 6):\n",
    "    model = H2OAutoEncoderEstimator(\n",
    "        activation=\"Tanh\",\n",
    "        hidden=[50,20, 2, 20, 50],\n",
    "        epochs=100,\n",
    "        #sparse=True,\n",
    "        #l1=1e-5,\n",
    "        seed=seed,\n",
    "        reproducible=True)\n",
    "    model.train(\n",
    "    x=X_train.names,\n",
    "    training_frame=X_train)\n",
    "\n",
    "    recon_error = model.anomaly(X_test)\n",
    "    plot_bidimensional(model, X_train, recon_error, 2, \"2D representation of data points seed {}\".format(seed))\n",
    "    # compute average and variance of the 2 dimensions\n"
   ]
  },
  {
   "cell_type": "code",
   "execution_count": 133,
   "metadata": {
    "collapsed": false,
    "run_control": {
     "frozen": false,
     "read_only": false
    }
   },
   "outputs": [
    {
     "name": "stdout",
     "output_type": "stream",
     "text": [
      "deeplearning Model Build progress: |██████████████████████████████████████████████████████████| 100%\n",
      "deepfeatures progress: |██████████████████████████████████████████████████████████████████████| 100%\n",
      "Warning: Method make_url in class H2OConnection is deprecated.\n"
     ]
    },
    {
     "data": {
      "text/html": [
       "<div>\n",
       "<table border=\"1\" class=\"dataframe\">\n",
       "  <thead>\n",
       "    <tr style=\"text-align: right;\">\n",
       "      <th></th>\n",
       "      <th>DF.L3.C1</th>\n",
       "      <th>DF.L3.C2</th>\n",
       "      <th>Reconstruction.MSE</th>\n",
       "    </tr>\n",
       "  </thead>\n",
       "  <tbody>\n",
       "    <tr>\n",
       "      <th>0</th>\n",
       "      <td>0.487688</td>\n",
       "      <td>0.863620</td>\n",
       "      <td>0.006362</td>\n",
       "    </tr>\n",
       "    <tr>\n",
       "      <th>1</th>\n",
       "      <td>0.635581</td>\n",
       "      <td>0.756164</td>\n",
       "      <td>0.011617</td>\n",
       "    </tr>\n",
       "    <tr>\n",
       "      <th>2</th>\n",
       "      <td>0.764004</td>\n",
       "      <td>0.777907</td>\n",
       "      <td>0.008139</td>\n",
       "    </tr>\n",
       "    <tr>\n",
       "      <th>3</th>\n",
       "      <td>0.847438</td>\n",
       "      <td>0.879615</td>\n",
       "      <td>0.024230</td>\n",
       "    </tr>\n",
       "    <tr>\n",
       "      <th>4</th>\n",
       "      <td>0.653252</td>\n",
       "      <td>0.918426</td>\n",
       "      <td>0.005973</td>\n",
       "    </tr>\n",
       "    <tr>\n",
       "      <th>5</th>\n",
       "      <td>0.033087</td>\n",
       "      <td>0.895865</td>\n",
       "      <td>0.014068</td>\n",
       "    </tr>\n",
       "    <tr>\n",
       "      <th>6</th>\n",
       "      <td>-0.849062</td>\n",
       "      <td>0.803780</td>\n",
       "      <td>0.021128</td>\n",
       "    </tr>\n",
       "    <tr>\n",
       "      <th>7</th>\n",
       "      <td>-0.934323</td>\n",
       "      <td>0.278897</td>\n",
       "      <td>0.008563</td>\n",
       "    </tr>\n",
       "    <tr>\n",
       "      <th>8</th>\n",
       "      <td>-0.953484</td>\n",
       "      <td>0.554313</td>\n",
       "      <td>0.015090</td>\n",
       "    </tr>\n",
       "    <tr>\n",
       "      <th>9</th>\n",
       "      <td>-0.954942</td>\n",
       "      <td>0.565842</td>\n",
       "      <td>0.016041</td>\n",
       "    </tr>\n",
       "    <tr>\n",
       "      <th>10</th>\n",
       "      <td>-0.963665</td>\n",
       "      <td>0.505855</td>\n",
       "      <td>0.012757</td>\n",
       "    </tr>\n",
       "    <tr>\n",
       "      <th>11</th>\n",
       "      <td>-0.951319</td>\n",
       "      <td>0.193528</td>\n",
       "      <td>0.013499</td>\n",
       "    </tr>\n",
       "    <tr>\n",
       "      <th>12</th>\n",
       "      <td>-0.799369</td>\n",
       "      <td>-0.347855</td>\n",
       "      <td>0.017805</td>\n",
       "    </tr>\n",
       "    <tr>\n",
       "      <th>13</th>\n",
       "      <td>-0.360751</td>\n",
       "      <td>-0.895798</td>\n",
       "      <td>0.013835</td>\n",
       "    </tr>\n",
       "    <tr>\n",
       "      <th>14</th>\n",
       "      <td>0.221507</td>\n",
       "      <td>-0.979454</td>\n",
       "      <td>0.019881</td>\n",
       "    </tr>\n",
       "    <tr>\n",
       "      <th>15</th>\n",
       "      <td>0.254899</td>\n",
       "      <td>-0.937718</td>\n",
       "      <td>0.020112</td>\n",
       "    </tr>\n",
       "    <tr>\n",
       "      <th>16</th>\n",
       "      <td>-0.605838</td>\n",
       "      <td>-0.458379</td>\n",
       "      <td>0.023646</td>\n",
       "    </tr>\n",
       "    <tr>\n",
       "      <th>17</th>\n",
       "      <td>-0.659003</td>\n",
       "      <td>-0.425322</td>\n",
       "      <td>0.016973</td>\n",
       "    </tr>\n",
       "    <tr>\n",
       "      <th>18</th>\n",
       "      <td>-0.140635</td>\n",
       "      <td>-0.915348</td>\n",
       "      <td>0.011403</td>\n",
       "    </tr>\n",
       "    <tr>\n",
       "      <th>19</th>\n",
       "      <td>0.599935</td>\n",
       "      <td>-0.984038</td>\n",
       "      <td>0.061589</td>\n",
       "    </tr>\n",
       "    <tr>\n",
       "      <th>20</th>\n",
       "      <td>-0.224228</td>\n",
       "      <td>-0.960386</td>\n",
       "      <td>3.619078</td>\n",
       "    </tr>\n",
       "    <tr>\n",
       "      <th>21</th>\n",
       "      <td>0.811673</td>\n",
       "      <td>-0.408526</td>\n",
       "      <td>10.584391</td>\n",
       "    </tr>\n",
       "    <tr>\n",
       "      <th>22</th>\n",
       "      <td>0.852972</td>\n",
       "      <td>-0.094532</td>\n",
       "      <td>8.574571</td>\n",
       "    </tr>\n",
       "  </tbody>\n",
       "</table>\n",
       "</div>"
      ],
      "text/plain": [
       "    DF.L3.C1  DF.L3.C2  Reconstruction.MSE\n",
       "0   0.487688  0.863620            0.006362\n",
       "1   0.635581  0.756164            0.011617\n",
       "2   0.764004  0.777907            0.008139\n",
       "3   0.847438  0.879615            0.024230\n",
       "4   0.653252  0.918426            0.005973\n",
       "5   0.033087  0.895865            0.014068\n",
       "6  -0.849062  0.803780            0.021128\n",
       "7  -0.934323  0.278897            0.008563\n",
       "8  -0.953484  0.554313            0.015090\n",
       "9  -0.954942  0.565842            0.016041\n",
       "10 -0.963665  0.505855            0.012757\n",
       "11 -0.951319  0.193528            0.013499\n",
       "12 -0.799369 -0.347855            0.017805\n",
       "13 -0.360751 -0.895798            0.013835\n",
       "14  0.221507 -0.979454            0.019881\n",
       "15  0.254899 -0.937718            0.020112\n",
       "16 -0.605838 -0.458379            0.023646\n",
       "17 -0.659003 -0.425322            0.016973\n",
       "18 -0.140635 -0.915348            0.011403\n",
       "19  0.599935 -0.984038            0.061589\n",
       "20 -0.224228 -0.960386            3.619078\n",
       "21  0.811673 -0.408526           10.584391\n",
       "22  0.852972 -0.094532            8.574571"
      ]
     },
     "execution_count": 133,
     "metadata": {},
     "output_type": "execute_result"
    }
   ],
   "source": [
    "model = H2OAutoEncoderEstimator(\n",
    "        activation=\"Tanh\",\n",
    "        hidden=[50,20, 2, 20, 50],\n",
    "        epochs=100,\n",
    "        #sparse=True,\n",
    "        #l1=1e-5,\n",
    "        seed=1,\n",
    "        reproducible=True)\n",
    "model.train(\n",
    "    x=train_ecg.names,\n",
    "    training_frame=train_ecg\n",
    ")\n",
    "\n",
    "recon_error = model.anomaly(test_ecg)\n",
    "bidimensional_data = model.deepfeatures(test_ecg, 2).cbind(recon_error).as_data_frame()\n",
    "bidimensional_data"
   ]
  }
 ],
 "metadata": {
  "kernelspec": {
   "display_name": "Python 2",
   "language": "python",
   "name": "python2"
  },
  "language_info": {
   "codemirror_mode": {
    "name": "ipython",
    "version": 2
   },
   "file_extension": ".py",
   "mimetype": "text/x-python",
   "name": "python",
   "nbconvert_exporter": "python",
   "pygments_lexer": "ipython2",
   "version": "2.7.13"
  },
  "toc": {
   "colors": {
    "hover_highlight": "#DAA520",
    "running_highlight": "#FF0000",
    "selected_highlight": "#FFD700"
   },
   "moveMenuLeft": true,
   "nav_menu": {
    "height": "12px",
    "width": "252px"
   },
   "navigate_menu": true,
   "number_sections": true,
   "sideBar": true,
   "threshold": 4,
   "toc_cell": false,
   "toc_section_display": "block",
   "toc_window_display": false,
   "widenNotebook": false
  }
 },
 "nbformat": 4,
 "nbformat_minor": 1
}
