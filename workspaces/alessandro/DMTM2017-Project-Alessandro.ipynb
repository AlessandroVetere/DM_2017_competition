{
 "cells": [
  {
   "cell_type": "markdown",
   "metadata": {},
   "source": [
    "# Loading original dataset"
   ]
  },
  {
   "cell_type": "code",
   "execution_count": 72,
   "metadata": {},
   "outputs": [
    {
     "name": "stdout",
     "output_type": "stream",
     "text": [
      "(26884, 24)\n"
     ]
    },
    {
     "data": {
      "text/html": [
       "<div>\n",
       "<table border=\"1\" class=\"dataframe\">\n",
       "  <thead>\n",
       "    <tr style=\"text-align: right;\">\n",
       "      <th></th>\n",
       "      <th>LIMIT_BAL</th>\n",
       "      <th>SEX</th>\n",
       "      <th>EDUCATION</th>\n",
       "      <th>MARRIAGE</th>\n",
       "      <th>BIRTH_DATE</th>\n",
       "      <th>PAY_DEC</th>\n",
       "      <th>PAY_NOV</th>\n",
       "      <th>PAY_OCT</th>\n",
       "      <th>PAY_SEP</th>\n",
       "      <th>PAY_AUG</th>\n",
       "      <th>...</th>\n",
       "      <th>BILL_AMT_SEP</th>\n",
       "      <th>BILL_AMT_AUG</th>\n",
       "      <th>BILL_AMT_JUL</th>\n",
       "      <th>PAY_AMT_DEC</th>\n",
       "      <th>PAY_AMT_NOV</th>\n",
       "      <th>PAY_AMT_OCT</th>\n",
       "      <th>PAY_AMT_SEP</th>\n",
       "      <th>PAY_AMT_AUG</th>\n",
       "      <th>PAY_AMT_JUL</th>\n",
       "      <th>DEFAULT PAYMENT JAN</th>\n",
       "    </tr>\n",
       "    <tr>\n",
       "      <th>CUST_COD</th>\n",
       "      <th></th>\n",
       "      <th></th>\n",
       "      <th></th>\n",
       "      <th></th>\n",
       "      <th></th>\n",
       "      <th></th>\n",
       "      <th></th>\n",
       "      <th></th>\n",
       "      <th></th>\n",
       "      <th></th>\n",
       "      <th></th>\n",
       "      <th></th>\n",
       "      <th></th>\n",
       "      <th></th>\n",
       "      <th></th>\n",
       "      <th></th>\n",
       "      <th></th>\n",
       "      <th></th>\n",
       "      <th></th>\n",
       "      <th></th>\n",
       "      <th></th>\n",
       "    </tr>\n",
       "  </thead>\n",
       "  <tbody>\n",
       "    <tr>\n",
       "      <th>53613503</th>\n",
       "      <td>1490.680</td>\n",
       "      <td>M</td>\n",
       "      <td>university</td>\n",
       "      <td>single</td>\n",
       "      <td>NaN</td>\n",
       "      <td>0</td>\n",
       "      <td>0</td>\n",
       "      <td>0</td>\n",
       "      <td>0</td>\n",
       "      <td>2</td>\n",
       "      <td>...</td>\n",
       "      <td>629.156401</td>\n",
       "      <td>599.283174</td>\n",
       "      <td>608.257067</td>\n",
       "      <td>89.440800</td>\n",
       "      <td>149.06800</td>\n",
       "      <td>68.571280</td>\n",
       "      <td>0.000000</td>\n",
       "      <td>29.81360</td>\n",
       "      <td>59.627200</td>\n",
       "      <td>0</td>\n",
       "    </tr>\n",
       "    <tr>\n",
       "      <th>35524089</th>\n",
       "      <td>5664.584</td>\n",
       "      <td>M</td>\n",
       "      <td>university</td>\n",
       "      <td>married</td>\n",
       "      <td>04/01/1983</td>\n",
       "      <td>0</td>\n",
       "      <td>0</td>\n",
       "      <td>0</td>\n",
       "      <td>0</td>\n",
       "      <td>0</td>\n",
       "      <td>...</td>\n",
       "      <td>533.872135</td>\n",
       "      <td>-2.772665</td>\n",
       "      <td>-14.399969</td>\n",
       "      <td>149.068000</td>\n",
       "      <td>159.83071</td>\n",
       "      <td>29.813600</td>\n",
       "      <td>0.000000</td>\n",
       "      <td>0.00000</td>\n",
       "      <td>0.000000</td>\n",
       "      <td>1</td>\n",
       "    </tr>\n",
       "    <tr>\n",
       "      <th>58777007</th>\n",
       "      <td>6260.856</td>\n",
       "      <td>F</td>\n",
       "      <td>high school</td>\n",
       "      <td>married</td>\n",
       "      <td>02/01/1975</td>\n",
       "      <td>0</td>\n",
       "      <td>0</td>\n",
       "      <td>-1</td>\n",
       "      <td>-1</td>\n",
       "      <td>-2</td>\n",
       "      <td>...</td>\n",
       "      <td>-19.349026</td>\n",
       "      <td>-19.349026</td>\n",
       "      <td>-19.349026</td>\n",
       "      <td>59.627200</td>\n",
       "      <td>532.59015</td>\n",
       "      <td>16.963938</td>\n",
       "      <td>0.000000</td>\n",
       "      <td>0.00000</td>\n",
       "      <td>29.813600</td>\n",
       "      <td>0</td>\n",
       "    </tr>\n",
       "    <tr>\n",
       "      <th>26913418</th>\n",
       "      <td>8944.080</td>\n",
       "      <td>F</td>\n",
       "      <td>graduate school</td>\n",
       "      <td>married</td>\n",
       "      <td>15/01/1977</td>\n",
       "      <td>-2</td>\n",
       "      <td>-2</td>\n",
       "      <td>-2</td>\n",
       "      <td>-2</td>\n",
       "      <td>-2</td>\n",
       "      <td>...</td>\n",
       "      <td>88.546392</td>\n",
       "      <td>70.330282</td>\n",
       "      <td>253.177091</td>\n",
       "      <td>80.556347</td>\n",
       "      <td>217.22189</td>\n",
       "      <td>88.784901</td>\n",
       "      <td>70.628418</td>\n",
       "      <td>298.46395</td>\n",
       "      <td>216.416922</td>\n",
       "      <td>0</td>\n",
       "    </tr>\n",
       "    <tr>\n",
       "      <th>41993633</th>\n",
       "      <td>3577.632</td>\n",
       "      <td>F</td>\n",
       "      <td>graduate school</td>\n",
       "      <td>married</td>\n",
       "      <td>09/01/1978</td>\n",
       "      <td>-1</td>\n",
       "      <td>-1</td>\n",
       "      <td>-1</td>\n",
       "      <td>-1</td>\n",
       "      <td>-1</td>\n",
       "      <td>...</td>\n",
       "      <td>0.000000</td>\n",
       "      <td>569.439760</td>\n",
       "      <td>0.000000</td>\n",
       "      <td>119.254400</td>\n",
       "      <td>29.81360</td>\n",
       "      <td>0.000000</td>\n",
       "      <td>569.439760</td>\n",
       "      <td>0.00000</td>\n",
       "      <td>0.000000</td>\n",
       "      <td>1</td>\n",
       "    </tr>\n",
       "  </tbody>\n",
       "</table>\n",
       "<p>5 rows × 24 columns</p>\n",
       "</div>"
      ],
      "text/plain": [
       "          LIMIT_BAL SEX        EDUCATION MARRIAGE  BIRTH_DATE  PAY_DEC  \\\n",
       "CUST_COD                                                                 \n",
       "53613503   1490.680   M       university   single         NaN        0   \n",
       "35524089   5664.584   M       university  married  04/01/1983        0   \n",
       "58777007   6260.856   F      high school  married  02/01/1975        0   \n",
       "26913418   8944.080   F  graduate school  married  15/01/1977       -2   \n",
       "41993633   3577.632   F  graduate school  married  09/01/1978       -1   \n",
       "\n",
       "          PAY_NOV  PAY_OCT  PAY_SEP  PAY_AUG         ...           \\\n",
       "CUST_COD                                             ...            \n",
       "53613503        0        0        0        2         ...            \n",
       "35524089        0        0        0        0         ...            \n",
       "58777007        0       -1       -1       -2         ...            \n",
       "26913418       -2       -2       -2       -2         ...            \n",
       "41993633       -1       -1       -1       -1         ...            \n",
       "\n",
       "          BILL_AMT_SEP  BILL_AMT_AUG  BILL_AMT_JUL  PAY_AMT_DEC  PAY_AMT_NOV  \\\n",
       "CUST_COD                                                                       \n",
       "53613503    629.156401    599.283174    608.257067    89.440800    149.06800   \n",
       "35524089    533.872135     -2.772665    -14.399969   149.068000    159.83071   \n",
       "58777007    -19.349026    -19.349026    -19.349026    59.627200    532.59015   \n",
       "26913418     88.546392     70.330282    253.177091    80.556347    217.22189   \n",
       "41993633      0.000000    569.439760      0.000000   119.254400     29.81360   \n",
       "\n",
       "          PAY_AMT_OCT  PAY_AMT_SEP  PAY_AMT_AUG  PAY_AMT_JUL  \\\n",
       "CUST_COD                                                       \n",
       "53613503    68.571280     0.000000     29.81360    59.627200   \n",
       "35524089    29.813600     0.000000      0.00000     0.000000   \n",
       "58777007    16.963938     0.000000      0.00000    29.813600   \n",
       "26913418    88.784901    70.628418    298.46395   216.416922   \n",
       "41993633     0.000000   569.439760      0.00000     0.000000   \n",
       "\n",
       "          DEFAULT PAYMENT JAN  \n",
       "CUST_COD                       \n",
       "53613503                    0  \n",
       "35524089                    1  \n",
       "58777007                    0  \n",
       "26913418                    0  \n",
       "41993633                    1  \n",
       "\n",
       "[5 rows x 24 columns]"
      ]
     },
     "execution_count": 72,
     "metadata": {},
     "output_type": "execute_result"
    }
   ],
   "source": [
    "import matplotlib.pyplot as plt\n",
    "import numpy as np\n",
    "from datetime import date\n",
    "from sklearn.preprocessing import RobustScaler\n",
    "from mpl_toolkits.mplot3d import axes3d\n",
    "# Will allow us to embed images in the notebook\n",
    "%matplotlib inline\n",
    "\n",
    "r = 666\n",
    "np.random.seed(r)\n",
    "\n",
    "import pandas as pd\n",
    "dataset = pd.read_csv(\"../common/dataset.csv\", header=0, index_col='CUST_COD')\n",
    "print(dataset.shape)\n",
    "# Backup original dataset\n",
    "orig_dataset = dataset\n",
    "dataset.head(5)"
   ]
  },
  {
   "cell_type": "markdown",
   "metadata": {},
   "source": [
    "# Different datasets management\n",
    "- split_and_add\n",
    "- add_dataset\n",
    "- retrieve_dataset"
   ]
  },
  {
   "cell_type": "code",
   "execution_count": 74,
   "metadata": {},
   "outputs": [
    {
     "name": "stdout",
     "output_type": "stream",
     "text": [
      "Train X shape: (18012, 19)\n",
      "Test X shape: (8872, 19)\n"
     ]
    }
   ],
   "source": [
    "# Format: {'name' : X_name}\n",
    "X_dict = {}\n",
    "# Format: {'name' : y_name}\n",
    "y_dict = {}\n",
    "# Format: {'name' : X_test_name}\n",
    "X_test_dict = {}\n",
    "# Format: {'name' : y_test_name}\n",
    "y_test_dict = {}\n",
    "names = set()\n",
    "\n",
    "target_col_name = 'DEFAULT PAYMENT JAN'\n",
    "from sklearn.model_selection import train_test_split\n",
    "def split_and_add(dataset, name):\n",
    "    train, test = train_test_split(dataset, test_size=0.33, random_state=r, stratify=dataset[target_col_name])\n",
    "    X = train.drop([target_col_name], 1)\n",
    "    y = train[target_col_name].tolist()\n",
    "    X_test = test.drop([target_col_name], 1)\n",
    "    y_test = test[target_col_name].tolist()\n",
    "    add_dataset(X, y, X_test, y_test, name)\n",
    "    print('Train X shape: {}'.format(X.shape))\n",
    "    print('Test X shape: {}'.format(X_test.shape))\n",
    "\n",
    "def add_dataset(X, y, X_test, y_test, name):\n",
    "    names.add(name)\n",
    "    X_dict[name] = X\n",
    "    y_dict[name] = y\n",
    "    X_test_dict[name] = X_test\n",
    "    y_test_dict[name] = y_test\n",
    "\n",
    "def retrieve_dataset(name):\n",
    "    return (X_dict[name], y_dict[name], X_test_dict[name], y_test_dict[name])\n",
    "\n",
    "split_and_add(dataset=orig_dataset.drop(['SEX', 'EDUCATION', 'MARRIAGE', 'BIRTH_DATE'], 1), name='orig')"
   ]
  },
  {
   "cell_type": "markdown",
   "metadata": {},
   "source": [
    "# Alessandro's dataset\n",
    "- One hot encoding of SEX\n",
    "- scores to MARRIAGE and EDUCATION\n",
    "- BIRTH_DATE transformed to AGE and normalized\n",
    "- Columns with money values like LIMIT_BAL and BILL_AMT_DEC normalized togheter to mean=0 std=1\n",
    "- Delay in payments normalized togheter to mean=0 std=1"
   ]
  },
  {
   "cell_type": "code",
   "execution_count": 123,
   "metadata": {},
   "outputs": [
    {
     "name": "stdout",
     "output_type": "stream",
     "text": [
      "One hot encoding SEX feature\n",
      "Scoring EDUCATION and MARRIAGE features\n",
      "Computing AGE and dropping BIRTH_DATE\n",
      "Normalizing ['LIMIT_BAL', 'BILL_AMT_DEC', 'BILL_AMT_NOV', 'BILL_AMT_OCT', 'BILL_AMT_SEP', 'BILL_AMT_AUG', 'BILL_AMT_JUL', 'PAY_AMT_DEC', 'PAY_AMT_NOV', 'PAY_AMT_OCT', 'PAY_AMT_SEP', 'PAY_AMT_AUG', 'PAY_AMT_JUL']\n",
      "Normalizing ['PAY_DEC', 'PAY_NOV', 'PAY_OCT', 'PAY_SEP', 'PAY_AUG', 'PAY_JUL']\n",
      "Normalizing AGE\n",
      "Dataset prepared\n",
      "(26884, 25)\n",
      "Train X shape: (18012, 24)\n",
      "Test X shape: (8872, 24)\n"
     ]
    },
    {
     "data": {
      "text/html": [
       "<div>\n",
       "<table border=\"1\" class=\"dataframe\">\n",
       "  <thead>\n",
       "    <tr style=\"text-align: right;\">\n",
       "      <th></th>\n",
       "      <th>SEX_F</th>\n",
       "      <th>SEX_M</th>\n",
       "      <th>LIMIT_BAL</th>\n",
       "      <th>EDUCATION</th>\n",
       "      <th>MARRIAGE</th>\n",
       "      <th>PAY_DEC</th>\n",
       "      <th>PAY_NOV</th>\n",
       "      <th>PAY_OCT</th>\n",
       "      <th>PAY_SEP</th>\n",
       "      <th>PAY_AUG</th>\n",
       "      <th>...</th>\n",
       "      <th>BILL_AMT_AUG</th>\n",
       "      <th>BILL_AMT_JUL</th>\n",
       "      <th>PAY_AMT_DEC</th>\n",
       "      <th>PAY_AMT_NOV</th>\n",
       "      <th>PAY_AMT_OCT</th>\n",
       "      <th>PAY_AMT_SEP</th>\n",
       "      <th>PAY_AMT_AUG</th>\n",
       "      <th>PAY_AMT_JUL</th>\n",
       "      <th>DEFAULT PAYMENT JAN</th>\n",
       "      <th>AGE</th>\n",
       "    </tr>\n",
       "    <tr>\n",
       "      <th>CUST_COD</th>\n",
       "      <th></th>\n",
       "      <th></th>\n",
       "      <th></th>\n",
       "      <th></th>\n",
       "      <th></th>\n",
       "      <th></th>\n",
       "      <th></th>\n",
       "      <th></th>\n",
       "      <th></th>\n",
       "      <th></th>\n",
       "      <th></th>\n",
       "      <th></th>\n",
       "      <th></th>\n",
       "      <th></th>\n",
       "      <th></th>\n",
       "      <th></th>\n",
       "      <th></th>\n",
       "      <th></th>\n",
       "      <th></th>\n",
       "      <th></th>\n",
       "      <th></th>\n",
       "    </tr>\n",
       "  </thead>\n",
       "  <tbody>\n",
       "    <tr>\n",
       "      <th>53613503</th>\n",
       "      <td>0</td>\n",
       "      <td>1</td>\n",
       "      <td>-0.596128</td>\n",
       "      <td>0.5</td>\n",
       "      <td>0.1</td>\n",
       "      <td>0.0</td>\n",
       "      <td>0.0</td>\n",
       "      <td>0.0</td>\n",
       "      <td>0.0</td>\n",
       "      <td>2.0</td>\n",
       "      <td>...</td>\n",
       "      <td>0.037304</td>\n",
       "      <td>0.062201</td>\n",
       "      <td>0.226817</td>\n",
       "      <td>0.581810</td>\n",
       "      <td>0.107552</td>\n",
       "      <td>-1.242265</td>\n",
       "      <td>-0.152191</td>\n",
       "      <td>0.105527</td>\n",
       "      <td>0</td>\n",
       "      <td>0.114474</td>\n",
       "    </tr>\n",
       "    <tr>\n",
       "      <th>35524089</th>\n",
       "      <td>0</td>\n",
       "      <td>1</td>\n",
       "      <td>0.219884</td>\n",
       "      <td>0.5</td>\n",
       "      <td>1.0</td>\n",
       "      <td>0.0</td>\n",
       "      <td>0.0</td>\n",
       "      <td>0.0</td>\n",
       "      <td>0.0</td>\n",
       "      <td>0.0</td>\n",
       "      <td>...</td>\n",
       "      <td>-1.237934</td>\n",
       "      <td>-1.296172</td>\n",
       "      <td>0.602427</td>\n",
       "      <td>0.634121</td>\n",
       "      <td>-0.239826</td>\n",
       "      <td>-1.242265</td>\n",
       "      <td>-1.203857</td>\n",
       "      <td>-1.048531</td>\n",
       "      <td>1</td>\n",
       "      <td>-0.076923</td>\n",
       "    </tr>\n",
       "    <tr>\n",
       "      <th>58777007</th>\n",
       "      <td>1</td>\n",
       "      <td>0</td>\n",
       "      <td>0.296956</td>\n",
       "      <td>0.1</td>\n",
       "      <td>1.0</td>\n",
       "      <td>0.0</td>\n",
       "      <td>0.0</td>\n",
       "      <td>-1.0</td>\n",
       "      <td>-1.0</td>\n",
       "      <td>-2.0</td>\n",
       "      <td>...</td>\n",
       "      <td>-1.403861</td>\n",
       "      <td>-1.327530</td>\n",
       "      <td>-0.028983</td>\n",
       "      <td>1.758319</td>\n",
       "      <td>-0.425833</td>\n",
       "      <td>-1.242265</td>\n",
       "      <td>-1.203857</td>\n",
       "      <td>-0.132555</td>\n",
       "      <td>0</td>\n",
       "      <td>0.538462</td>\n",
       "    </tr>\n",
       "    <tr>\n",
       "      <th>26913418</th>\n",
       "      <td>1</td>\n",
       "      <td>0</td>\n",
       "      <td>0.593509</td>\n",
       "      <td>1.0</td>\n",
       "      <td>1.0</td>\n",
       "      <td>-2.0</td>\n",
       "      <td>-2.0</td>\n",
       "      <td>-2.0</td>\n",
       "      <td>-2.0</td>\n",
       "      <td>-2.0</td>\n",
       "      <td>...</td>\n",
       "      <td>-0.520618</td>\n",
       "      <td>-0.205178</td>\n",
       "      <td>0.157470</td>\n",
       "      <td>0.879351</td>\n",
       "      <td>0.236415</td>\n",
       "      <td>0.204414</td>\n",
       "      <td>1.062719</td>\n",
       "      <td>0.725018</td>\n",
       "      <td>0</td>\n",
       "      <td>0.384615</td>\n",
       "    </tr>\n",
       "    <tr>\n",
       "      <th>41993633</th>\n",
       "      <td>1</td>\n",
       "      <td>0</td>\n",
       "      <td>-0.102777</td>\n",
       "      <td>1.0</td>\n",
       "      <td>1.0</td>\n",
       "      <td>-1.0</td>\n",
       "      <td>-1.0</td>\n",
       "      <td>-1.0</td>\n",
       "      <td>-1.0</td>\n",
       "      <td>-1.0</td>\n",
       "      <td>...</td>\n",
       "      <td>0.018849</td>\n",
       "      <td>-0.993142</td>\n",
       "      <td>0.430459</td>\n",
       "      <td>-0.342035</td>\n",
       "      <td>-1.325361</td>\n",
       "      <td>1.658605</td>\n",
       "      <td>-1.203857</td>\n",
       "      <td>-1.048531</td>\n",
       "      <td>1</td>\n",
       "      <td>0.307692</td>\n",
       "    </tr>\n",
       "  </tbody>\n",
       "</table>\n",
       "<p>5 rows × 25 columns</p>\n",
       "</div>"
      ],
      "text/plain": [
       "          SEX_F  SEX_M  LIMIT_BAL  EDUCATION  MARRIAGE  PAY_DEC  PAY_NOV  \\\n",
       "CUST_COD                                                                   \n",
       "53613503      0      1  -0.596128        0.5       0.1      0.0      0.0   \n",
       "35524089      0      1   0.219884        0.5       1.0      0.0      0.0   \n",
       "58777007      1      0   0.296956        0.1       1.0      0.0      0.0   \n",
       "26913418      1      0   0.593509        1.0       1.0     -2.0     -2.0   \n",
       "41993633      1      0  -0.102777        1.0       1.0     -1.0     -1.0   \n",
       "\n",
       "          PAY_OCT  PAY_SEP  PAY_AUG    ...     BILL_AMT_AUG  BILL_AMT_JUL  \\\n",
       "CUST_COD                               ...                                  \n",
       "53613503      0.0      0.0      2.0    ...         0.037304      0.062201   \n",
       "35524089      0.0      0.0      0.0    ...        -1.237934     -1.296172   \n",
       "58777007     -1.0     -1.0     -2.0    ...        -1.403861     -1.327530   \n",
       "26913418     -2.0     -2.0     -2.0    ...        -0.520618     -0.205178   \n",
       "41993633     -1.0     -1.0     -1.0    ...         0.018849     -0.993142   \n",
       "\n",
       "          PAY_AMT_DEC  PAY_AMT_NOV  PAY_AMT_OCT  PAY_AMT_SEP  PAY_AMT_AUG  \\\n",
       "CUST_COD                                                                    \n",
       "53613503     0.226817     0.581810     0.107552    -1.242265    -0.152191   \n",
       "35524089     0.602427     0.634121    -0.239826    -1.242265    -1.203857   \n",
       "58777007    -0.028983     1.758319    -0.425833    -1.242265    -1.203857   \n",
       "26913418     0.157470     0.879351     0.236415     0.204414     1.062719   \n",
       "41993633     0.430459    -0.342035    -1.325361     1.658605    -1.203857   \n",
       "\n",
       "          PAY_AMT_JUL  DEFAULT PAYMENT JAN       AGE  \n",
       "CUST_COD                                              \n",
       "53613503     0.105527                    0  0.114474  \n",
       "35524089    -1.048531                    1 -0.076923  \n",
       "58777007    -0.132555                    0  0.538462  \n",
       "26913418     0.725018                    0  0.384615  \n",
       "41993633    -1.048531                    1  0.307692  \n",
       "\n",
       "[5 rows x 25 columns]"
      ]
     },
     "execution_count": 123,
     "metadata": {},
     "output_type": "execute_result"
    }
   ],
   "source": [
    "# Retrieve original dataset\n",
    "dataset = orig_dataset\n",
    "\n",
    "print('One hot encoding SEX feature')\n",
    "# set(dataset[\"SEX\"]) = {nan, 'M', 'F'}\n",
    "fields = {'SEX'}\n",
    "for field in fields:\n",
    "    dataset = pd.get_dummies(dataset[field], prefix=field).join(dataset.drop([field], 1))\n",
    "\n",
    "print('Scoring EDUCATION and MARRIAGE features')\n",
    "# Assume other == Nan\n",
    "# set(dataset[\"EDUCATION\"]) = {nan, 'high school', 'graduate school', 'other', 'university'}\n",
    "# set(dataset[\"MARRIAGE\"]) = {nan, 'other', 'single', 'married'}\n",
    "education_dict = { 'other': 0, 'high school': 0.1, 'university': 0.5, 'graduate school': 1}\n",
    "marriage_dict = {'other': 0, 'single': 0.1, 'married': 1}\n",
    "dataset['EDUCATION'] = dataset['EDUCATION'].fillna('other').apply(lambda x: education_dict[x])\n",
    "dataset['MARRIAGE'] = dataset['MARRIAGE'].fillna('other').apply(lambda x: marriage_dict[x])\n",
    "\n",
    "print('Computing AGE and dropping BIRTH_DATE')\n",
    "dataset['BIRTH_DATE'] = pd.to_datetime(dataset['BIRTH_DATE'], format='%d/%m/%Y')\n",
    "from datetime import date\n",
    "def calculate_age(birth_date):\n",
    "    today = date.today()\n",
    "    age = today.year - birth_date.year\n",
    "    full_year_passed = (today.month, today.day) < (birth_date.month, birth_date.day)\n",
    "    if not full_year_passed:\n",
    "        age -= 1\n",
    "    return age\n",
    "dataset['AGE'] = dataset['BIRTH_DATE'].apply(lambda x: calculate_age(x))\n",
    "dataset = dataset.drop([\"BIRTH_DATE\"], 1)\n",
    "dataset['AGE'] = dataset['AGE'].fillna(dataset['AGE'].mean())\n",
    "\n",
    "from sklearn.preprocessing import RobustScaler\n",
    "fields = ['LIMIT_BAL',\n",
    "          'BILL_AMT_DEC', 'BILL_AMT_NOV', 'BILL_AMT_OCT', 'BILL_AMT_SEP', 'BILL_AMT_AUG', 'BILL_AMT_JUL',\n",
    "          'PAY_AMT_DEC', 'PAY_AMT_NOV', 'PAY_AMT_OCT', 'PAY_AMT_SEP', 'PAY_AMT_AUG', 'PAY_AMT_JUL']\n",
    "print('Normalizing {}'.format(fields))\n",
    "#print(offset)\n",
    "# np.cbrt is the only one that works with negative numbers\n",
    "# using pow with 1/3 or 1/5 etc with negative numbers leads to complex number as results because of\n",
    "# numerical approximations\n",
    "# np.cbrt instead apply the direct algorithm to find cubic root, which is well defined for every negative number\n",
    "dataset[fields] = dataset[fields].apply(lambda x: x.apply(lambda y: np.cbrt(y)))\n",
    "#print(dataset[fields].head(5))\n",
    "rs = RobustScaler()\n",
    "rs.fit(dataset[fields])\n",
    "dataset[fields] = rs.transform(dataset[fields])\n",
    "\n",
    "fields = ['PAY_DEC', 'PAY_NOV', 'PAY_OCT', 'PAY_SEP', 'PAY_AUG', 'PAY_JUL']\n",
    "print('Normalizing {}'.format(fields))\n",
    "rs.fit(dataset[fields])\n",
    "dataset[fields] = rs.transform(dataset[fields])\n",
    "\n",
    "print('Normalizing AGE')\n",
    "rs.fit(dataset['AGE'].values.reshape(-1, 1))\n",
    "dataset['AGE'] = rs.transform(dataset['AGE'].values.reshape(-1, 1))\n",
    "\n",
    "print('Dataset prepared')\n",
    "print(dataset.shape)\n",
    "\n",
    "split_and_add(dataset=dataset, name='ale')\n",
    "\n",
    "dataset.head(5)"
   ]
  },
  {
   "cell_type": "code",
   "execution_count": 124,
   "metadata": {},
   "outputs": [
    {
     "data": {
      "image/png": "[encoded data removed]",
      "text/plain": [
       "<matplotlib.figure.Figure at 0x1cc3fc68978>"
      ]
     },
     "metadata": {},
     "output_type": "display_data"
    },
    {
     "name": "stdout",
     "output_type": "stream",
     "text": [
      "298.136\n"
     ]
    },
    {
     "data": {
      "image/png": "[encoded data removed]",
      "text/plain": [
       "<matplotlib.figure.Figure at 0x1cc3e5fceb8>"
      ]
     },
     "metadata": {},
     "output_type": "display_data"
    },
    {
     "data": {
      "image/png": "[encoded data removed]",
      "text/plain": [
       "<matplotlib.figure.Figure at 0x1cc3dcb9978>"
      ]
     },
     "metadata": {},
     "output_type": "display_data"
    }
   ],
   "source": [
    "col_name = 'LIMIT_BAL'\n",
    "# Separare gli 0.\n",
    "plt.figure(1)\n",
    "plt.hist(orig_dataset[col_name], 50, normed=1, facecolor='g', alpha=0.75)\n",
    "plt.xlabel('Value')\n",
    "plt.ylabel('Density')\n",
    "plt.title('orig_dataset[{}]'.format(col_name))\n",
    "plt.show()\n",
    "plt.figure(1)\n",
    "print(orig_dataset[col_name].min())\n",
    "#offset = np.abs(orig_dataset[col_name].min()) + 1e-2\n",
    "offset = 0\n",
    "plt.hist(np.power(orig_dataset[col_name] + offset, 1/10), 50, normed=1, facecolor='g', alpha=0.75)\n",
    "plt.xlabel('Log Value')\n",
    "plt.ylabel('Density')\n",
    "plt.title('log10(orig_dataset[{}] + offset)'.format(col_name))\n",
    "plt.show()\n",
    "plt.figure(1)\n",
    "plt.hist(dataset[col_name], 50, normed=1, facecolor='g', alpha=0.75)\n",
    "plt.xlabel('Value')\n",
    "plt.ylabel('Density')\n",
    "plt.title('dataset[{}]'.format(col_name))\n",
    "plt.show()"
   ]
  },
  {
   "cell_type": "markdown",
   "metadata": {},
   "source": [
    "# Alessandro's - PCA"
   ]
  },
  {
   "cell_type": "code",
   "execution_count": 127,
   "metadata": {},
   "outputs": [
    {
     "name": "stdout",
     "output_type": "stream",
     "text": [
      "Printing PCA with 3 components to visualize dataset\n"
     ]
    },
    {
     "data": {
      "image/png": "[encoded data removed]",
      "text/plain": [
       "<matplotlib.figure.Figure at 0x1cc3d6c99e8>"
      ]
     },
     "metadata": {},
     "output_type": "display_data"
    },
    {
     "data": {
      "image/png": "[encoded data removed]",
      "text/plain": [
       "<matplotlib.figure.Figure at 0x1cc3d6b5320>"
      ]
     },
     "metadata": {},
     "output_type": "display_data"
    }
   ],
   "source": [
    "from sklearn.decomposition import PCA\n",
    "name = 'ale'\n",
    "X, y, X_test, y_test = retrieve_dataset(name)\n",
    "\n",
    "print('Printing PCA with 3 components to visualize dataset')\n",
    "pca = PCA(whiten=True, random_state=r, n_components=3)\n",
    "pca.fit(X)\n",
    "colors = {0:'b', 1:'r'}\n",
    "\n",
    "df = pd.DataFrame(pca.transform(X))\n",
    "fig = plt.figure()\n",
    "ax = fig.add_subplot(111, projection='3d')\n",
    "ax.text2D(0.05, 0.95, 'PCA 3D Train', transform=ax.transAxes)\n",
    "ax.scatter(df[0], df[1], df[2], c=pd.DataFrame(y)[0].apply(lambda x: colors[x]), s=0.25)\n",
    "plt.show()\n",
    "\n",
    "df = pd.DataFrame(pca.transform(X_test))\n",
    "fig = plt.figure()\n",
    "ax = fig.add_subplot(111, projection='3d')\n",
    "ax.text2D(0.05, 0.95, 'PCA 3D Test', transform=ax.transAxes)\n",
    "ax.scatter(df[0], df[1], df[2], c=pd.DataFrame(y_test)[0].apply(lambda x: colors[x]), s=0.25)\n",
    "plt.show()"
   ]
  },
  {
   "cell_type": "code",
   "execution_count": 350,
   "metadata": {},
   "outputs": [
    {
     "name": "stdout",
     "output_type": "stream",
     "text": [
      "Starting PCA\n",
      "cumsum_tresh = 0.8, n_components = 5\n",
      "cumsum_tresh = 0.85, n_components = 5\n",
      "cumsum_tresh = 0.9, n_components = 6\n",
      "cumsum_tresh = 0.95, n_components = 7\n",
      "cumsum_tresh = 0.97, n_components = 8\n",
      "cumsum_tresh = 0.99, n_components = 13\n"
     ]
    },
    {
     "data": {
      "image/png": "[encoded data removed]",
      "text/plain": [
       "<matplotlib.figure.Figure at 0xe35bf98>"
      ]
     },
     "metadata": {},
     "output_type": "display_data"
    },
    {
     "name": "stdout",
     "output_type": "stream",
     "text": [
      "Selecting tresh = 0.97\n"
     ]
    }
   ],
   "source": [
    "pca_enabled = True\n",
    "name = 'ale'\n",
    "X, y, X_test, y_test = retrieve_dataset(name)\n",
    "if pca_enabled:\n",
    "    print('Starting PCA')\n",
    "    \n",
    "    pca = PCA(whiten=True, random_state=r)\n",
    "    pca.fit(X)\n",
    "    cumsum = pca.explained_variance_ratio_.cumsum()\n",
    "    cumsum = sorted(list(cumsum))\n",
    " \n",
    "    def find_cumsum_tresh(cumsum, cumsum_tresh):\n",
    "        for i in np.arange(0, len(cumsum)):\n",
    "            if cumsum[i] >= cumsum_tresh:\n",
    "                break\n",
    "        return i\n",
    "    \n",
    "    plt.figure(1)\n",
    "    # plt.grid(color='k', linestyle='-', linewidth=0.5)\n",
    "    plt.plot(cumsum, label='Cumsum', marker='o', color='b')\n",
    "    plt.xlabel('N Components')\n",
    "    plt.ylabel('Cumsum')\n",
    "    plt.title('PCA Cumsum')\n",
    "    plt.legend(loc='best')\n",
    "    \n",
    "    for i in [0.8, 0.85, 0.9, 0.95, 0.97, 0.99]:\n",
    "        n_components = find_cumsum_tresh(cumsum, i)\n",
    "        print('cumsum_tresh = {}, n_components = {}'.format(i, n_components))\n",
    "        plt.axhline(y=i, c='red', linewidth=0.5, zorder=0)\n",
    "\n",
    "    plt.show()\n",
    "    \n",
    "    tresh = 0.97\n",
    "    print('Selecting tresh = {}'.format(tresh))\n",
    "    n_components = find_cumsum_tresh(cumsum, tresh)\n",
    "    pca = PCA(whiten=True, random_state=r, n_components=n_components)\n",
    "    pca.fit(X)\n",
    "    X_pca = pca.transform(X)\n",
    "    X_pca_test = pca.transform(X_test)\n",
    "\n",
    "add_dataset(X_pca, y, X_pca_test, y_test, name+'_pca')"
   ]
  },
  {
   "cell_type": "markdown",
   "metadata": {},
   "source": [
    "# Models"
   ]
  },
  {
   "cell_type": "code",
   "execution_count": 341,
   "metadata": {},
   "outputs": [
    {
     "name": "stdout",
     "output_type": "stream",
     "text": [
      "Defined functions\n"
     ]
    }
   ],
   "source": [
    "from sklearn.model_selection import cross_val_score, StratifiedKFold\n",
    "from sklearn.metrics import make_scorer, confusion_matrix, f1_score\n",
    "\n",
    "cv=StratifiedKFold(n_splits=10, random_state=r, shuffle=True)\n",
    "\n",
    "def cost_matrix(y, y_pred):\n",
    "    cm = confusion_matrix(y, y_pred)\n",
    "    # first index true\n",
    "    # second index predicted\n",
    "    return cm[0][0] * 0 + cm[0][1] * 1 + cm[1][0] * 5 + cm[1][1] * 0\n",
    "\n",
    "ms = make_scorer(cost_matrix, greater_is_better=False)\n",
    "\n",
    "def cv_clf(clf, X, y, X_test, y_test):\n",
    "    y_pred = clf.predict(X)\n",
    "    y_pred_test = clf.predict(X_test)\n",
    "    scores_stkfold = cross_val_score(clf, X, y, scoring='f1', cv=cv)\n",
    "    f1_cv_mean = scores_stkfold.mean()\n",
    "    f1_cv_std = scores_stkfold.std()\n",
    "    f1_train = f1_score(y, y_pred)  \n",
    "    f1_test = f1_score(y_test, y_pred_test)\n",
    "    print('f1_train = {:.3f}\\t f1_cv = {:.3f} ± {:.3f}\\nf1_test = {:.3f}'.format(f1_train, f1_cv_mean, f1_cv_std, f1_test))\n",
    "    # cost_train = cost_matrix(y, y_pred)\n",
    "    # cost_test = cost_matrix(y_test, y_pred_test)\n",
    "    # print('cost_train = {}\\ncost_test = {}'.format(format(cost_train, ','), format(cost_test, ',')))\n",
    "    cm_train = confusion_matrix(y, y_pred)\n",
    "    cm_test = confusion_matrix(y_test, y_pred_test)\n",
    "    print('cm_train = \\n{}\\ncm_test = \\n{}'.format(cm_train, cm_test))\n",
    "\n",
    "def fit_and_score(clf, name):\n",
    "    print('Evaluating on ' + name + ' dataset')\n",
    "    X, y, X_test, y_test = retrieve_dataset(name)\n",
    "    clf.fit(X, y)\n",
    "    cv_clf(clf, X, y, X_test, y_test)    \n",
    "    \n",
    "print('Defined functions')"
   ]
  },
  {
   "cell_type": "code",
   "execution_count": 351,
   "metadata": {
    "scrolled": true
   },
   "outputs": [
    {
     "name": "stdout",
     "output_type": "stream",
     "text": [
      "Evaluating on ale dataset\n",
      "f1_train = 0.221\t f1_cv = 0.217 ± 0.018\n",
      "f1_test = 0.225\n",
      "cm_train = \n",
      "[[10932  3098]\n",
      " [ 3104   878]]\n",
      "cm_test = \n",
      "[[5369 1541]\n",
      " [1519  443]]\n",
      "Evaluating on orig dataset\n",
      "f1_train = 0.221\t f1_cv = 0.217 ± 0.018\n",
      "f1_test = 0.225\n",
      "cm_train = \n",
      "[[10932  3098]\n",
      " [ 3104   878]]\n",
      "cm_test = \n",
      "[[5369 1541]\n",
      " [1519  443]]\n"
     ]
    }
   ],
   "source": [
    "from sklearn.dummy import DummyClassifier\n",
    "clf = DummyClassifier(random_state=r)\n",
    "fit_and_score(clf, 'ale')\n",
    "fit_and_score(clf, 'orig')"
   ]
  },
  {
   "cell_type": "code",
   "execution_count": 226,
   "metadata": {},
   "outputs": [
    {
     "name": "stdout",
     "output_type": "stream",
     "text": [
      "Evaluating on ale dataset\n"
     ]
    },
    {
     "ename": "KeyboardInterrupt",
     "evalue": "",
     "output_type": "error",
     "traceback": [
      "\u001b[0;31m---------------------------------------------------------------------------\u001b[0m",
      "\u001b[0;31mKeyboardInterrupt\u001b[0m                         Traceback (most recent call last)",
      "\u001b[0;32m<ipython-input-226-40c23d7b904c>\u001b[0m in \u001b[0;36m<module>\u001b[0;34m()\u001b[0m\n\u001b[1;32m      1\u001b[0m \u001b[1;32mfrom\u001b[0m \u001b[0msklearn\u001b[0m \u001b[1;32mimport\u001b[0m \u001b[0msvm\u001b[0m\u001b[1;33m\u001b[0m\u001b[0m\n\u001b[1;32m      2\u001b[0m \u001b[0mclf\u001b[0m \u001b[1;33m=\u001b[0m \u001b[0msvm\u001b[0m\u001b[1;33m.\u001b[0m\u001b[0mSVC\u001b[0m\u001b[1;33m(\u001b[0m\u001b[0mrandom_state\u001b[0m\u001b[1;33m=\u001b[0m\u001b[0mr\u001b[0m\u001b[1;33m,\u001b[0m \u001b[0mC\u001b[0m\u001b[1;33m=\u001b[0m\u001b[1;36m1\u001b[0m\u001b[1;33m,\u001b[0m \u001b[0mclass_weight\u001b[0m\u001b[1;33m=\u001b[0m\u001b[1;34m'balanced'\u001b[0m\u001b[1;33m)\u001b[0m\u001b[1;33m\u001b[0m\u001b[0m\n\u001b[0;32m----> 3\u001b[0;31m \u001b[0mfit_and_score\u001b[0m\u001b[1;33m(\u001b[0m\u001b[0mclf\u001b[0m\u001b[1;33m,\u001b[0m \u001b[1;34m'ale'\u001b[0m\u001b[1;33m)\u001b[0m\u001b[1;33m\u001b[0m\u001b[0m\n\u001b[0m\u001b[1;32m      4\u001b[0m \u001b[0mfit_and_score\u001b[0m\u001b[1;33m(\u001b[0m\u001b[0mclf\u001b[0m\u001b[1;33m,\u001b[0m \u001b[1;34m'ale_pca'\u001b[0m\u001b[1;33m)\u001b[0m\u001b[1;33m\u001b[0m\u001b[0m\n",
      "\u001b[0;32m<ipython-input-223-6b2d84bb244b>\u001b[0m in \u001b[0;36mfit_and_score\u001b[0;34m(clf, name)\u001b[0m\n\u001b[1;32m     31\u001b[0m     \u001b[0mprint\u001b[0m\u001b[1;33m(\u001b[0m\u001b[1;34m'Evaluating on '\u001b[0m \u001b[1;33m+\u001b[0m \u001b[0mname\u001b[0m \u001b[1;33m+\u001b[0m \u001b[1;34m' dataset'\u001b[0m\u001b[1;33m)\u001b[0m\u001b[1;33m\u001b[0m\u001b[0m\n\u001b[1;32m     32\u001b[0m     \u001b[0mX\u001b[0m\u001b[1;33m,\u001b[0m \u001b[0my\u001b[0m\u001b[1;33m,\u001b[0m \u001b[0mX_test\u001b[0m\u001b[1;33m,\u001b[0m \u001b[0my_test\u001b[0m \u001b[1;33m=\u001b[0m \u001b[0mretrieve_dataset\u001b[0m\u001b[1;33m(\u001b[0m\u001b[0mname\u001b[0m\u001b[1;33m)\u001b[0m\u001b[1;33m\u001b[0m\u001b[0m\n\u001b[0;32m---> 33\u001b[0;31m     \u001b[0mclf\u001b[0m\u001b[1;33m.\u001b[0m\u001b[0mfit\u001b[0m\u001b[1;33m(\u001b[0m\u001b[0mX\u001b[0m\u001b[1;33m,\u001b[0m \u001b[0my\u001b[0m\u001b[1;33m)\u001b[0m\u001b[1;33m\u001b[0m\u001b[0m\n\u001b[0m\u001b[1;32m     34\u001b[0m     \u001b[0mcv_clf\u001b[0m\u001b[1;33m(\u001b[0m\u001b[0mclf\u001b[0m\u001b[1;33m,\u001b[0m \u001b[0mX\u001b[0m\u001b[1;33m,\u001b[0m \u001b[0my\u001b[0m\u001b[1;33m,\u001b[0m \u001b[0mX_test\u001b[0m\u001b[1;33m,\u001b[0m \u001b[0my_test\u001b[0m\u001b[1;33m)\u001b[0m\u001b[1;33m\u001b[0m\u001b[0m\n\u001b[1;32m     35\u001b[0m \u001b[1;33m\u001b[0m\u001b[0m\n",
      "\u001b[0;32mC:\\Users\\iLink\\Anaconda3\\lib\\site-packages\\sklearn\\svm\\base.py\u001b[0m in \u001b[0;36mfit\u001b[0;34m(self, X, y, sample_weight)\u001b[0m\n\u001b[1;32m    187\u001b[0m \u001b[1;33m\u001b[0m\u001b[0m\n\u001b[1;32m    188\u001b[0m         \u001b[0mseed\u001b[0m \u001b[1;33m=\u001b[0m \u001b[0mrnd\u001b[0m\u001b[1;33m.\u001b[0m\u001b[0mrandint\u001b[0m\u001b[1;33m(\u001b[0m\u001b[0mnp\u001b[0m\u001b[1;33m.\u001b[0m\u001b[0miinfo\u001b[0m\u001b[1;33m(\u001b[0m\u001b[1;34m'i'\u001b[0m\u001b[1;33m)\u001b[0m\u001b[1;33m.\u001b[0m\u001b[0mmax\u001b[0m\u001b[1;33m)\u001b[0m\u001b[1;33m\u001b[0m\u001b[0m\n\u001b[0;32m--> 189\u001b[0;31m         \u001b[0mfit\u001b[0m\u001b[1;33m(\u001b[0m\u001b[0mX\u001b[0m\u001b[1;33m,\u001b[0m \u001b[0my\u001b[0m\u001b[1;33m,\u001b[0m \u001b[0msample_weight\u001b[0m\u001b[1;33m,\u001b[0m \u001b[0msolver_type\u001b[0m\u001b[1;33m,\u001b[0m \u001b[0mkernel\u001b[0m\u001b[1;33m,\u001b[0m \u001b[0mrandom_seed\u001b[0m\u001b[1;33m=\u001b[0m\u001b[0mseed\u001b[0m\u001b[1;33m)\u001b[0m\u001b[1;33m\u001b[0m\u001b[0m\n\u001b[0m\u001b[1;32m    190\u001b[0m         \u001b[1;31m# see comment on the other call to np.iinfo in this file\u001b[0m\u001b[1;33m\u001b[0m\u001b[1;33m\u001b[0m\u001b[0m\n\u001b[1;32m    191\u001b[0m \u001b[1;33m\u001b[0m\u001b[0m\n",
      "\u001b[0;32mC:\\Users\\iLink\\Anaconda3\\lib\\site-packages\\sklearn\\svm\\base.py\u001b[0m in \u001b[0;36m_dense_fit\u001b[0;34m(self, X, y, sample_weight, solver_type, kernel, random_seed)\u001b[0m\n\u001b[1;32m    254\u001b[0m                 \u001b[0mcache_size\u001b[0m\u001b[1;33m=\u001b[0m\u001b[0mself\u001b[0m\u001b[1;33m.\u001b[0m\u001b[0mcache_size\u001b[0m\u001b[1;33m,\u001b[0m \u001b[0mcoef0\u001b[0m\u001b[1;33m=\u001b[0m\u001b[0mself\u001b[0m\u001b[1;33m.\u001b[0m\u001b[0mcoef0\u001b[0m\u001b[1;33m,\u001b[0m\u001b[1;33m\u001b[0m\u001b[0m\n\u001b[1;32m    255\u001b[0m                 \u001b[0mgamma\u001b[0m\u001b[1;33m=\u001b[0m\u001b[0mself\u001b[0m\u001b[1;33m.\u001b[0m\u001b[0m_gamma\u001b[0m\u001b[1;33m,\u001b[0m \u001b[0mepsilon\u001b[0m\u001b[1;33m=\u001b[0m\u001b[0mself\u001b[0m\u001b[1;33m.\u001b[0m\u001b[0mepsilon\u001b[0m\u001b[1;33m,\u001b[0m\u001b[1;33m\u001b[0m\u001b[0m\n\u001b[0;32m--> 256\u001b[0;31m                 max_iter=self.max_iter, random_seed=random_seed)\n\u001b[0m\u001b[1;32m    257\u001b[0m \u001b[1;33m\u001b[0m\u001b[0m\n\u001b[1;32m    258\u001b[0m         \u001b[0mself\u001b[0m\u001b[1;33m.\u001b[0m\u001b[0m_warn_from_fit_status\u001b[0m\u001b[1;33m(\u001b[0m\u001b[1;33m)\u001b[0m\u001b[1;33m\u001b[0m\u001b[0m\n",
      "\u001b[0;31mKeyboardInterrupt\u001b[0m: "
     ]
    }
   ],
   "source": [
    "from sklearn import svm\n",
    "clf = svm.SVC(random_state=r, C=1, class_weight='balanced')\n",
    "fit_and_score(clf, 'ale')\n",
    "fit_and_score(clf, 'ale_pca')"
   ]
  },
  {
   "cell_type": "code",
   "execution_count": 354,
   "metadata": {},
   "outputs": [
    {
     "name": "stdout",
     "output_type": "stream",
     "text": [
      "Evaluating on ale dataset\n",
      "f1_train = 0.534\t f1_cv = 0.533 ± 0.021\n",
      "f1_test = 0.527\n",
      "cm_train = \n",
      "[[11562  2468]\n",
      " [ 1631  2351]]\n",
      "cm_test = \n",
      "[[5701 1209]\n",
      " [ 828 1134]]\n",
      "Evaluating on orig dataset\n",
      "f1_train = 0.534\t f1_cv = 0.533 ± 0.021\n",
      "f1_test = 0.527\n",
      "cm_train = \n",
      "[[11562  2468]\n",
      " [ 1631  2351]]\n",
      "cm_test = \n",
      "[[5701 1209]\n",
      " [ 828 1134]]\n"
     ]
    }
   ],
   "source": [
    "from sklearn.tree import DecisionTreeClassifier\n",
    "clf = DecisionTreeClassifier(random_state=r, max_depth=4, class_weight='balanced')\n",
    "fit_and_score(clf, 'ale')\n",
    "fit_and_score(clf, 'orig')"
   ]
  },
  {
   "cell_type": "code",
   "execution_count": 368,
   "metadata": {},
   "outputs": [
    {
     "name": "stdout",
     "output_type": "stream",
     "text": [
      "Evaluating on ale dataset\n",
      "f1_train = 0.520\t f1_cv = 0.515 ± 0.012\n",
      "f1_test = 0.525\n",
      "cm_train = \n",
      "[[11484  2546]\n",
      " [ 1687  2295]]\n",
      "cm_test = \n",
      "[[5666 1244]\n",
      " [ 822 1140]]\n",
      "Evaluating on ale_pca dataset\n",
      "f1_train = 0.396\t f1_cv = 0.390 ± 0.009\n",
      "f1_test = 0.395\n",
      "cm_train = \n",
      "[[6394 7636]\n",
      " [1117 2865]]\n",
      "cm_test = \n",
      "[[3177 3733]\n",
      " [ 560 1402]]\n",
      "Evaluating on orig dataset\n",
      "f1_train = 0.521\t f1_cv = 0.516 ± 0.011\n",
      "f1_test = 0.528\n",
      "cm_train = \n",
      "[[11529  2501]\n",
      " [ 1700  2282]]\n",
      "cm_test = \n",
      "[[5687 1223]\n",
      " [ 821 1141]]\n"
     ]
    }
   ],
   "source": [
    "from sklearn.naive_bayes import GaussianNB\n",
    "# No random_state\n",
    "# The priors are set based on class distribution in the dataset\n",
    "# No CV needed\n",
    "clf = GaussianNB()\n",
    "fit_and_score(clf, 'ale')\n",
    "fit_and_score(clf, 'ale_pca')\n",
    "fit_and_score(clf, 'orig')"
   ]
  },
  {
   "cell_type": "code",
   "execution_count": 51,
   "metadata": {},
   "outputs": [
    {
     "name": "stdout",
     "output_type": "stream",
     "text": [
      "f1_train = 0.999\t f1_cv = 0.460 ± 0.018\n",
      "f1_test = 0.445\n",
      "cost_train = 32\n",
      "cost_test = 6,827\n",
      "cm_train = \n",
      "[[14028     2]\n",
      " [    6  3976]]\n",
      "cm_test = \n",
      "[[6498  412]\n",
      " [1283  679]]\n"
     ]
    }
   ],
   "source": [
    "from sklearn.ensemble import RandomForestClassifier\n",
    "clf = RandomForestClassifier(random_state=r, n_estimators=67, class_weight='balanced', n_jobs=-1)\n",
    "fit_and_score(clf, 'ale')\n",
    "fit_and_score(clf, 'ale_pca')"
   ]
  },
  {
   "cell_type": "code",
   "execution_count": 52,
   "metadata": {},
   "outputs": [
    {
     "name": "stdout",
     "output_type": "stream",
     "text": [
      "f1_train = 0.999\t f1_cv = 0.454 ± 0.027\n",
      "f1_test = 0.429\n",
      "cost_train = 30\n",
      "cost_test = 6,986\n",
      "cm_train = \n",
      "[[14030     0]\n",
      " [    6  3976]]\n",
      "cm_test = \n",
      "[[6509  401]\n",
      " [1317  645]]\n"
     ]
    }
   ],
   "source": [
    "from sklearn.neighbors import KNeighborsClassifier\n",
    "clf = KNeighborsClassifier(n_neighbors=19, weights='distance', n_jobs=-1)\n",
    "fit_and_score(clf, 'ale')\n",
    "fit_and_score(clf, 'ale_pca')"
   ]
  },
  {
   "cell_type": "code",
   "execution_count": 203,
   "metadata": {},
   "outputs": [
    {
     "name": "stdout",
     "output_type": "stream",
     "text": [
      "Evaluating on ale dataset\n",
      "f1_train = 0.470\t f1_cv = 0.467 ± 0.026\n",
      "f1_test = 0.430\n",
      "cm_train = \n",
      "[[13486   544]\n",
      " [ 2593  1389]]\n",
      "cm_test = \n",
      "[[6586  324]\n",
      " [1336  626]]\n"
     ]
    }
   ],
   "source": [
    "from sklearn.neural_network import MLPClassifier\n",
    "clf = MLPClassifier(hidden_layer_sizes=(10,7,5,3), random_state=r)\n",
    "fit_and_score(clf, 'ale')\n",
    "#fit_and_score(clf, 'ale_pca')"
   ]
  },
  {
   "cell_type": "code",
   "execution_count": 367,
   "metadata": {
    "scrolled": false
   },
   "outputs": [
    {
     "name": "stdout",
     "output_type": "stream",
     "text": [
      "Evaluating on ale dataset\n",
      "f1_train = 0.473\t f1_cv = 0.469 ± 0.013\n",
      "f1_test = 0.476\n",
      "cm_train = \n",
      "[[9863 4167]\n",
      " [1457 2525]]\n",
      "cm_test = \n",
      "[[4926 1984]\n",
      " [ 730 1232]]\n",
      "Evaluating on orig dataset\n",
      "f1_train = 0.514\t f1_cv = 0.512 ± 0.018\n",
      "f1_test = 0.509\n",
      "cm_train = \n",
      "[[12086  1944]\n",
      " [ 1933  2049]]\n",
      "cm_test = \n",
      "[[5972  938]\n",
      " [ 972  990]]\n",
      "[[ -1.51185659e-05   3.92566146e-01   4.36418883e-02   0.00000000e+00\n",
      "    0.00000000e+00   0.00000000e+00   0.00000000e+00  -9.22595948e-05\n",
      "    2.27742942e-05   5.20021426e-05   1.44996378e-05   1.32368458e-05\n",
      "    2.36288112e-05  -3.02185678e-04  -3.18049841e-04  -1.29279891e-04\n",
      "   -1.47709297e-04  -1.72766604e-04   1.19958023e-05]]\n"
     ]
    },
    {
     "data": {
      "image/png": "[encoded data removed]",
      "text/plain": [
       "<matplotlib.figure.Figure at 0x2e507c88>"
      ]
     },
     "metadata": {},
     "output_type": "display_data"
    }
   ],
   "source": [
    "from sklearn.linear_model import LogisticRegression\n",
    "# l1 0.01 balanced f1_test = 0.485282\n",
    "# l2 0.01 balanced f1_test = 0.483491\n",
    "\n",
    "# l1 0.001 orig f1 = 0.511950840163\n",
    "# l2 0.0001 orig f1 = 0.501479445524\n",
    "\n",
    "clf = LogisticRegression(penalty='l1', C=0.001, class_weight='balanced', fit_intercept=True, random_state=r, n_jobs=-1)\n",
    "fit_and_score(clf, 'ale')\n",
    "fit_and_score(clf, 'orig')\n",
    "\n",
    "from sklearn.metrics import roc_curve, auc\n",
    "\n",
    "X, y, X_test, y_test = retrieve_dataset('orig')\n",
    "clf.fit(X, y)\n",
    "print(clf.coef_)\n",
    "\n",
    "y_score = clf.decision_function(X_test)\n",
    "# Compute ROC curve and ROC area for each class\n",
    "fpr, tpr, t = roc_curve(y_test, y_score)\n",
    "roc_auc = auc(fpr, tpr)\n",
    "\n",
    "# t_sigm = 1 / (1 + np.exp(-t))\n",
    "\n",
    "plt.figure()\n",
    "lw = 2\n",
    "plt.plot(fpr, tpr, color='darkorange', lw=lw, label='ROC curve (area = %0.2f)' % roc_auc)\n",
    "plt.plot([0, 1], [0, 1], color='navy', lw=lw, linestyle='--')\n",
    "plt.xlim([-0.05, 1.05])\n",
    "plt.ylim([-0.05, 1.05])\n",
    "plt.xlabel('False Positive Rate')\n",
    "plt.ylabel('True Positive Rate')\n",
    "plt.title('ROC Curve')\n",
    "plt.legend(loc=\"lower right\")\n",
    "plt.show()"
   ]
  },
  {
   "cell_type": "code",
   "execution_count": 372,
   "metadata": {},
   "outputs": [
    {
     "name": "stdout",
     "output_type": "stream",
     "text": [
      "GridSearchCV done on dataset ale\n",
      "{'max_depth': 4}\n",
      "f1 = 0.53285247868\n"
     ]
    }
   ],
   "source": [
    "from sklearn.linear_model import LogisticRegression\n",
    "from sklearn.model_selection import GridSearchCV\n",
    "\n",
    "cv=StratifiedKFold(n_splits=5, random_state=r, shuffle=True)\n",
    "\n",
    "#parameters = {'C': [1e-10, 1e-7, 1e-4, 1e-3, 1e-2, 1e-1, 1, 1e2, 1e3, 1e4]}\n",
    "#clf = LogisticRegression(penalty='l2', class_weight='balanced', fit_intercept=True, random_state=r, n_jobs=1)\n",
    "\n",
    "parameters = {'max_depth':[1,2,3,4,5,6,7,8,9,10,11,12,15,20,30,40,50,70,90,120,150]}\n",
    "clf = DecisionTreeClassifier(random_state=r, class_weight='balanced')\n",
    "\n",
    "#parameters = {'C': [1e-4, 1e-3, 1e-2, 1e-1, 1, 1e2, 1e3, 1e4]}\n",
    "#clf = svm.SVC(random_state=random_state, class_weight='balanced')\n",
    "\n",
    "#parameters = {'n_estimators': np.arange(1,100)}\n",
    "#clf = RandomForestClassifier(random_state=random_state, class_weight='balanced')\n",
    "\n",
    "#parameters = {'priors': [[0.1, 0.9], [0.2, 0.8], [0.5, 0.5], [0.8, 0.2], [0.9, 0.1]]}\n",
    "#clf = GaussianNB()\n",
    "\n",
    "#parameters = {'hidden_layer_sizes': np.arange(2,100)}\n",
    "#clf = MLPClassifier(random_state=random_state)\n",
    "\n",
    "dataset_name = 'ale'\n",
    "scoring_name = 'f1'\n",
    "n_jobs = -1\n",
    "if scoring_name == ms:\n",
    "    n_jobs = 1\n",
    "gscv = GridSearchCV(estimator=clf, param_grid=parameters, n_jobs=n_jobs, cv=cv, scoring=scoring_name)\n",
    "X, y, X_test, y_test = retrieve_dataset(dataset_name)\n",
    "gscv.fit(X, y)\n",
    "print('GridSearchCV done on dataset ' + dataset_name)\n",
    "print(gscv.best_params_)\n",
    "print(scoring_name + ' = ' + str(gscv.best_score_))"
   ]
  },
  {
   "cell_type": "code",
   "execution_count": 373,
   "metadata": {},
   "outputs": [
    {
     "data": {
      "image/png": "[encoded data removed]",
      "text/plain": [
       "<matplotlib.figure.Figure at 0xd377a58>"
      ]
     },
     "metadata": {},
     "output_type": "display_data"
    }
   ],
   "source": [
    "plt.figure(1)\n",
    "if scoring_name == ms:\n",
    "    scoring_name = 'Cost'\n",
    "#plt.plot([prior[0] for prior in parameters['priors']], gscv.cv_results_['mean_test_score'], label=scoring_name)\n",
    "#plt.plot(parameters['n_estimators'], gscv.cv_results_['mean_test_score'], label=scoring_name)\n",
    "#plt.plot(parameters['C'], gscv.cv_results_['mean_test_score'], label=scoring_name)\n",
    "#plt.semilogx(parameters['C'], gscv.cv_results_['mean_test_score'], label=scoring_name, marker='o', color='b')\n",
    "plt.plot(parameters['max_depth'], gscv.cv_results_['mean_test_score'], label=scoring_name)\n",
    "#plt.plot(parameters['hidden_layer_sizes'], gscv.cv_results_['mean_test_score'], label=scoring_name)\n",
    "plt.xlabel('C')\n",
    "plt.ylabel(scoring_name)\n",
    "plt.title('CV ' + scoring_name)\n",
    "plt.legend(loc='best')\n",
    "plt.show()"
   ]
  },
  {
   "cell_type": "code",
   "execution_count": null,
   "metadata": {
    "collapsed": true
   },
   "outputs": [],
   "source": [
    "target = pd.read_csv(\"./common/target.csv\")\n",
    "target = target.drop([target_col_name], 1)\n",
    "target_nan = target[pd.isnull(target).any(axis=1)]"
   ]
  }
 ],
 "metadata": {
  "kernelspec": {
   "display_name": "Python 3",
   "language": "python",
   "name": "python3"
  },
  "language_info": {
   "codemirror_mode": {
    "name": "ipython",
    "version": 3
   },
   "file_extension": ".py",
   "mimetype": "text/x-python",
   "name": "python",
   "nbconvert_exporter": "python",
   "pygments_lexer": "ipython3",
   "version": "3.6.0"
  }
 },
 "nbformat": 4,
 "nbformat_minor": 2
}
