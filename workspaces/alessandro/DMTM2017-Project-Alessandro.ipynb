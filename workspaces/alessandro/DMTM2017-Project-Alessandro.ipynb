{
 "cells": [
  {
   "cell_type": "code",
   "execution_count": 33,
   "metadata": {
    "collapsed": false
   },
   "outputs": [
    {
     "name": "stderr",
     "output_type": "stream",
     "text": [
      "C:\\Users\\Alessandro\\Anaconda3\\lib\\site-packages\\sklearn\\preprocessing\\data.py:986: DeprecationWarning: Passing 1d arrays as data is deprecated in 0.17 and will raise ValueError in 0.19. Reshape your data either using X.reshape(-1, 1) if your data has a single feature or X.reshape(1, -1) if it contains a single sample.\n",
      "  warnings.warn(DEPRECATION_MSG_1D, DeprecationWarning)\n",
      "C:\\Users\\Alessandro\\Anaconda3\\lib\\site-packages\\sklearn\\preprocessing\\data.py:1008: DeprecationWarning: Passing 1d arrays as data is deprecated in 0.17 and will raise ValueError in 0.19. Reshape your data either using X.reshape(-1, 1) if your data has a single feature or X.reshape(1, -1) if it contains a single sample.\n",
      "  warnings.warn(DEPRECATION_MSG_1D, DeprecationWarning)\n",
      "C:\\Users\\Alessandro\\Anaconda3\\lib\\site-packages\\sklearn\\preprocessing\\data.py:986: DeprecationWarning: Passing 1d arrays as data is deprecated in 0.17 and will raise ValueError in 0.19. Reshape your data either using X.reshape(-1, 1) if your data has a single feature or X.reshape(1, -1) if it contains a single sample.\n",
      "  warnings.warn(DEPRECATION_MSG_1D, DeprecationWarning)\n",
      "C:\\Users\\Alessandro\\Anaconda3\\lib\\site-packages\\sklearn\\preprocessing\\data.py:1037: DeprecationWarning: Passing 1d arrays as data is deprecated in 0.17 and will raise ValueError in 0.19. Reshape your data either using X.reshape(-1, 1) if your data has a single feature or X.reshape(1, -1) if it contains a single sample.\n",
      "  warnings.warn(DEPRECATION_MSG_1D, DeprecationWarning)\n"
     ]
    }
   ],
   "source": [
    "import matplotlib.pyplot as plt\n",
    "# Will allow us to embed images in the notebook\n",
    "%matplotlib inline\n",
    "\n",
    "random_state = 666\n",
    "\n",
    "import pandas as pd\n",
    "dataset = pd.read_csv(\"../common/dataset.csv\")\n",
    "\n",
    "# set(dataset[\"SEX\"]) = {nan, 'M', 'F'}\n",
    "fields = {'SEX'}\n",
    "for field in fields:\n",
    "    dataset = pd.get_dummies(dataset[field], prefix=field).join(dataset.drop([field], 1))\n",
    "\n",
    "# Assume other == Nan\n",
    "# set(dataset[\"EDUCATION\"]) = {nan, 'high school', 'graduate school', 'other', 'university'}\n",
    "# set(dataset[\"MARRIAGE\"]) = {nan, 'other', 'single', 'married'}\n",
    "education_dict = { 'other': 0, 'high school': 0.1, 'university': 0.5, 'graduate school': 1}\n",
    "marriage_dict = {'other': 0, 'single': 0.1, 'married': 1}\n",
    "dataset['EDUCATION'] = dataset['EDUCATION'].fillna('other').apply(lambda x: education_dict[x])\n",
    "dataset['MARRIAGE'] = dataset['MARRIAGE'].fillna('other').apply(lambda x: marriage_dict[x])\n",
    "\n",
    "dataset['BIRTH_DATE'] = pd.to_datetime(dataset['BIRTH_DATE'], format='%d/%m/%Y')\n",
    "from datetime import date\n",
    "def calculate_age(birth_date):\n",
    "    today = date.today()\n",
    "    age = today.year - birth_date.year\n",
    "    full_year_passed = (today.month, today.day) < (birth_date.month, birth_date.day)\n",
    "    if not full_year_passed:\n",
    "        age -= 1\n",
    "    return age\n",
    "dataset['AGE'] = dataset['BIRTH_DATE'].apply(lambda x: calculate_age(x))\n",
    "dataset = dataset.drop([\"BIRTH_DATE\"], 1)\n",
    "dataset['AGE'] = dataset['AGE'].fillna(dataset['AGE'].mean())\n",
    "\n",
    "fields = ['LIMIT_BAL',\n",
    "          'BILL_AMT_DEC', 'BILL_AMT_NOV', 'BILL_AMT_OCT', 'BILL_AMT_SEP', 'BILL_AMT_AUG', 'BILL_AMT_JUL',\n",
    "          'PAY_AMT_DEC', 'PAY_AMT_NOV', 'PAY_AMT_OCT', 'PAY_AMT_SEP', 'PAY_AMT_AUG', 'PAY_AMT_JUL']\n",
    "from sklearn.preprocessing import RobustScaler\n",
    "rs = RobustScaler()\n",
    "\n",
    "rs.fit(dataset[fields])\n",
    "dataset[fields] = rs.transform(dataset[fields])\n",
    "\n",
    "rs.fit(dataset['AGE'])\n",
    "dataset['AGE'] = rs.transform(dataset['AGE'])\n",
    "\n",
    "fields = ['PAY_DEC', 'PAY_NOV', 'PAY_OCT', 'PAY_SEP', 'PAY_AUG', 'PAY_JUL']\n",
    "rs.fit(dataset[fields])\n",
    "dataset[fields] = rs.transform(dataset[fields])\n",
    "\n",
    "dataset = dataset.drop(['CUST_COD'], 1)"
   ]
  },
  {
   "cell_type": "code",
   "execution_count": 34,
   "metadata": {
    "collapsed": false
   },
   "outputs": [
    {
     "data": {
      "text/html": [
       "<div>\n",
       "<table border=\"1\" class=\"dataframe\">\n",
       "  <thead>\n",
       "    <tr style=\"text-align: right;\">\n",
       "      <th></th>\n",
       "      <th>SEX_F</th>\n",
       "      <th>SEX_M</th>\n",
       "      <th>LIMIT_BAL</th>\n",
       "      <th>EDUCATION</th>\n",
       "      <th>MARRIAGE</th>\n",
       "      <th>PAY_DEC</th>\n",
       "      <th>PAY_NOV</th>\n",
       "      <th>PAY_OCT</th>\n",
       "      <th>PAY_SEP</th>\n",
       "      <th>PAY_AUG</th>\n",
       "      <th>...</th>\n",
       "      <th>BILL_AMT_AUG</th>\n",
       "      <th>BILL_AMT_JUL</th>\n",
       "      <th>PAY_AMT_DEC</th>\n",
       "      <th>PAY_AMT_NOV</th>\n",
       "      <th>PAY_AMT_OCT</th>\n",
       "      <th>PAY_AMT_SEP</th>\n",
       "      <th>PAY_AMT_AUG</th>\n",
       "      <th>PAY_AMT_JUL</th>\n",
       "      <th>DEFAULT PAYMENT JAN</th>\n",
       "      <th>AGE</th>\n",
       "    </tr>\n",
       "  </thead>\n",
       "  <tbody>\n",
       "    <tr>\n",
       "      <th>0</th>\n",
       "      <td>0</td>\n",
       "      <td>1</td>\n",
       "      <td>-0.473684</td>\n",
       "      <td>0.5</td>\n",
       "      <td>0.1</td>\n",
       "      <td>0.0</td>\n",
       "      <td>0.0</td>\n",
       "      <td>0.0</td>\n",
       "      <td>0.0</td>\n",
       "      <td>2.0</td>\n",
       "      <td>...</td>\n",
       "      <td>0.040830</td>\n",
       "      <td>0.070589</td>\n",
       "      <td>0.224271</td>\n",
       "      <td>0.716841</td>\n",
       "      <td>0.116590</td>\n",
       "      <td>-0.403524</td>\n",
       "      <td>-0.132494</td>\n",
       "      <td>0.128858</td>\n",
       "      <td>0</td>\n",
       "      <td>0.114474</td>\n",
       "    </tr>\n",
       "    <tr>\n",
       "      <th>1</th>\n",
       "      <td>0</td>\n",
       "      <td>1</td>\n",
       "      <td>0.263158</td>\n",
       "      <td>0.5</td>\n",
       "      <td>1.0</td>\n",
       "      <td>0.0</td>\n",
       "      <td>0.0</td>\n",
       "      <td>0.0</td>\n",
       "      <td>0.0</td>\n",
       "      <td>0.0</td>\n",
       "      <td>...</td>\n",
       "      <td>-0.373816</td>\n",
       "      <td>-0.363142</td>\n",
       "      <td>0.722651</td>\n",
       "      <td>0.803505</td>\n",
       "      <td>-0.199174</td>\n",
       "      <td>-0.403524</td>\n",
       "      <td>-0.397483</td>\n",
       "      <td>-0.386573</td>\n",
       "      <td>1</td>\n",
       "      <td>-0.076923</td>\n",
       "    </tr>\n",
       "    <tr>\n",
       "      <th>2</th>\n",
       "      <td>1</td>\n",
       "      <td>0</td>\n",
       "      <td>0.368421</td>\n",
       "      <td>0.1</td>\n",
       "      <td>1.0</td>\n",
       "      <td>0.0</td>\n",
       "      <td>0.0</td>\n",
       "      <td>-1.0</td>\n",
       "      <td>-1.0</td>\n",
       "      <td>-2.0</td>\n",
       "      <td>...</td>\n",
       "      <td>-0.385233</td>\n",
       "      <td>-0.366589</td>\n",
       "      <td>-0.024919</td>\n",
       "      <td>3.805065</td>\n",
       "      <td>-0.303862</td>\n",
       "      <td>-0.403524</td>\n",
       "      <td>-0.397483</td>\n",
       "      <td>-0.128858</td>\n",
       "      <td>0</td>\n",
       "      <td>0.538462</td>\n",
       "    </tr>\n",
       "    <tr>\n",
       "      <th>3</th>\n",
       "      <td>1</td>\n",
       "      <td>0</td>\n",
       "      <td>0.842105</td>\n",
       "      <td>1.0</td>\n",
       "      <td>1.0</td>\n",
       "      <td>-2.0</td>\n",
       "      <td>-2.0</td>\n",
       "      <td>-2.0</td>\n",
       "      <td>-2.0</td>\n",
       "      <td>-2.0</td>\n",
       "      <td>...</td>\n",
       "      <td>-0.323469</td>\n",
       "      <td>-0.176753</td>\n",
       "      <td>0.150012</td>\n",
       "      <td>1.265634</td>\n",
       "      <td>0.281273</td>\n",
       "      <td>0.233775</td>\n",
       "      <td>2.255316</td>\n",
       "      <td>1.484183</td>\n",
       "      <td>0</td>\n",
       "      <td>0.384615</td>\n",
       "    </tr>\n",
       "    <tr>\n",
       "      <th>4</th>\n",
       "      <td>1</td>\n",
       "      <td>0</td>\n",
       "      <td>-0.105263</td>\n",
       "      <td>1.0</td>\n",
       "      <td>1.0</td>\n",
       "      <td>-1.0</td>\n",
       "      <td>-1.0</td>\n",
       "      <td>-1.0</td>\n",
       "      <td>-1.0</td>\n",
       "      <td>-1.0</td>\n",
       "      <td>...</td>\n",
       "      <td>0.020276</td>\n",
       "      <td>-0.353111</td>\n",
       "      <td>0.473461</td>\n",
       "      <td>-0.243428</td>\n",
       "      <td>-0.442069</td>\n",
       "      <td>4.734683</td>\n",
       "      <td>-0.397483</td>\n",
       "      <td>-0.386573</td>\n",
       "      <td>1</td>\n",
       "      <td>0.307692</td>\n",
       "    </tr>\n",
       "    <tr>\n",
       "      <th>5</th>\n",
       "      <td>0</td>\n",
       "      <td>1</td>\n",
       "      <td>-0.315789</td>\n",
       "      <td>0.5</td>\n",
       "      <td>0.1</td>\n",
       "      <td>2.0</td>\n",
       "      <td>0.0</td>\n",
       "      <td>0.0</td>\n",
       "      <td>0.0</td>\n",
       "      <td>0.0</td>\n",
       "      <td>...</td>\n",
       "      <td>0.803575</td>\n",
       "      <td>0.862103</td>\n",
       "      <td>0.377025</td>\n",
       "      <td>0.260713</td>\n",
       "      <td>0.043721</td>\n",
       "      <td>0.161410</td>\n",
       "      <td>0.185492</td>\n",
       "      <td>0.139424</td>\n",
       "      <td>1</td>\n",
       "      <td>-0.538462</td>\n",
       "    </tr>\n",
       "    <tr>\n",
       "      <th>6</th>\n",
       "      <td>0</td>\n",
       "      <td>1</td>\n",
       "      <td>-0.631579</td>\n",
       "      <td>0.5</td>\n",
       "      <td>1.0</td>\n",
       "      <td>1.0</td>\n",
       "      <td>2.0</td>\n",
       "      <td>0.0</td>\n",
       "      <td>0.0</td>\n",
       "      <td>0.0</td>\n",
       "      <td>...</td>\n",
       "      <td>0.021242</td>\n",
       "      <td>0.069904</td>\n",
       "      <td>-0.523299</td>\n",
       "      <td>-0.170688</td>\n",
       "      <td>-0.274472</td>\n",
       "      <td>-0.174591</td>\n",
       "      <td>0.052998</td>\n",
       "      <td>-0.386573</td>\n",
       "      <td>1</td>\n",
       "      <td>-0.230769</td>\n",
       "    </tr>\n",
       "    <tr>\n",
       "      <th>7</th>\n",
       "      <td>1</td>\n",
       "      <td>0</td>\n",
       "      <td>1.157895</td>\n",
       "      <td>0.5</td>\n",
       "      <td>0.1</td>\n",
       "      <td>-1.0</td>\n",
       "      <td>-1.0</td>\n",
       "      <td>-1.0</td>\n",
       "      <td>-1.0</td>\n",
       "      <td>0.0</td>\n",
       "      <td>...</td>\n",
       "      <td>-0.348293</td>\n",
       "      <td>-0.353111</td>\n",
       "      <td>1.933715</td>\n",
       "      <td>1.565958</td>\n",
       "      <td>0.751032</td>\n",
       "      <td>-0.403524</td>\n",
       "      <td>-0.397483</td>\n",
       "      <td>2.008633</td>\n",
       "      <td>0</td>\n",
       "      <td>-0.076923</td>\n",
       "    </tr>\n",
       "    <tr>\n",
       "      <th>8</th>\n",
       "      <td>0</td>\n",
       "      <td>1</td>\n",
       "      <td>-0.473684</td>\n",
       "      <td>0.5</td>\n",
       "      <td>0.1</td>\n",
       "      <td>2.0</td>\n",
       "      <td>0.0</td>\n",
       "      <td>0.0</td>\n",
       "      <td>0.0</td>\n",
       "      <td>0.0</td>\n",
       "      <td>...</td>\n",
       "      <td>0.352256</td>\n",
       "      <td>-0.018774</td>\n",
       "      <td>0.224271</td>\n",
       "      <td>-0.171408</td>\n",
       "      <td>-0.286131</td>\n",
       "      <td>-0.238886</td>\n",
       "      <td>-0.081616</td>\n",
       "      <td>-0.231944</td>\n",
       "      <td>1</td>\n",
       "      <td>-0.769231</td>\n",
       "    </tr>\n",
       "    <tr>\n",
       "      <th>9</th>\n",
       "      <td>1</td>\n",
       "      <td>0</td>\n",
       "      <td>-0.473684</td>\n",
       "      <td>0.5</td>\n",
       "      <td>1.0</td>\n",
       "      <td>0.0</td>\n",
       "      <td>0.0</td>\n",
       "      <td>0.0</td>\n",
       "      <td>0.0</td>\n",
       "      <td>0.0</td>\n",
       "      <td>...</td>\n",
       "      <td>0.163967</td>\n",
       "      <td>0.205246</td>\n",
       "      <td>-0.024919</td>\n",
       "      <td>0.357940</td>\n",
       "      <td>0.043721</td>\n",
       "      <td>1.748604</td>\n",
       "      <td>0.662471</td>\n",
       "      <td>0.554088</td>\n",
       "      <td>1</td>\n",
       "      <td>-0.769231</td>\n",
       "    </tr>\n",
       "  </tbody>\n",
       "</table>\n",
       "<p>10 rows × 25 columns</p>\n",
       "</div>"
      ],
      "text/plain": [
       "   SEX_F  SEX_M  LIMIT_BAL  EDUCATION  MARRIAGE  PAY_DEC  PAY_NOV  PAY_OCT  \\\n",
       "0      0      1  -0.473684        0.5       0.1      0.0      0.0      0.0   \n",
       "1      0      1   0.263158        0.5       1.0      0.0      0.0      0.0   \n",
       "2      1      0   0.368421        0.1       1.0      0.0      0.0     -1.0   \n",
       "3      1      0   0.842105        1.0       1.0     -2.0     -2.0     -2.0   \n",
       "4      1      0  -0.105263        1.0       1.0     -1.0     -1.0     -1.0   \n",
       "5      0      1  -0.315789        0.5       0.1      2.0      0.0      0.0   \n",
       "6      0      1  -0.631579        0.5       1.0      1.0      2.0      0.0   \n",
       "7      1      0   1.157895        0.5       0.1     -1.0     -1.0     -1.0   \n",
       "8      0      1  -0.473684        0.5       0.1      2.0      0.0      0.0   \n",
       "9      1      0  -0.473684        0.5       1.0      0.0      0.0      0.0   \n",
       "\n",
       "   PAY_SEP  PAY_AUG    ...     BILL_AMT_AUG  BILL_AMT_JUL  PAY_AMT_DEC  \\\n",
       "0      0.0      2.0    ...         0.040830      0.070589     0.224271   \n",
       "1      0.0      0.0    ...        -0.373816     -0.363142     0.722651   \n",
       "2     -1.0     -2.0    ...        -0.385233     -0.366589    -0.024919   \n",
       "3     -2.0     -2.0    ...        -0.323469     -0.176753     0.150012   \n",
       "4     -1.0     -1.0    ...         0.020276     -0.353111     0.473461   \n",
       "5      0.0      0.0    ...         0.803575      0.862103     0.377025   \n",
       "6      0.0      0.0    ...         0.021242      0.069904    -0.523299   \n",
       "7     -1.0      0.0    ...        -0.348293     -0.353111     1.933715   \n",
       "8      0.0      0.0    ...         0.352256     -0.018774     0.224271   \n",
       "9      0.0      0.0    ...         0.163967      0.205246    -0.024919   \n",
       "\n",
       "   PAY_AMT_NOV  PAY_AMT_OCT  PAY_AMT_SEP  PAY_AMT_AUG  PAY_AMT_JUL  \\\n",
       "0     0.716841     0.116590    -0.403524    -0.132494     0.128858   \n",
       "1     0.803505    -0.199174    -0.403524    -0.397483    -0.386573   \n",
       "2     3.805065    -0.303862    -0.403524    -0.397483    -0.128858   \n",
       "3     1.265634     0.281273     0.233775     2.255316     1.484183   \n",
       "4    -0.243428    -0.442069     4.734683    -0.397483    -0.386573   \n",
       "5     0.260713     0.043721     0.161410     0.185492     0.139424   \n",
       "6    -0.170688    -0.274472    -0.174591     0.052998    -0.386573   \n",
       "7     1.565958     0.751032    -0.403524    -0.397483     2.008633   \n",
       "8    -0.171408    -0.286131    -0.238886    -0.081616    -0.231944   \n",
       "9     0.357940     0.043721     1.748604     0.662471     0.554088   \n",
       "\n",
       "   DEFAULT PAYMENT JAN       AGE  \n",
       "0                    0  0.114474  \n",
       "1                    1 -0.076923  \n",
       "2                    0  0.538462  \n",
       "3                    0  0.384615  \n",
       "4                    1  0.307692  \n",
       "5                    1 -0.538462  \n",
       "6                    1 -0.230769  \n",
       "7                    0 -0.076923  \n",
       "8                    1 -0.769231  \n",
       "9                    1 -0.769231  \n",
       "\n",
       "[10 rows x 25 columns]"
      ]
     },
     "execution_count": 34,
     "metadata": {},
     "output_type": "execute_result"
    }
   ],
   "source": [
    "dataset.head(10)"
   ]
  },
  {
   "cell_type": "code",
   "execution_count": 35,
   "metadata": {
    "collapsed": false
   },
   "outputs": [
    {
     "name": "stdout",
     "output_type": "stream",
     "text": [
      "(18012, 24)\n",
      "(8872, 24)\n"
     ]
    }
   ],
   "source": [
    "target_col_name = 'DEFAULT PAYMENT JAN'\n",
    "from sklearn.model_selection import train_test_split\n",
    "train, test = train_test_split(dataset, test_size=0.33, random_state=random_state, stratify=dataset[target_col_name])\n",
    "# print(train[train[\"DEFAULT PAYMENT JAN\"] == 1].shape[0] / train.shape[0])\n",
    "# print(test[test[\"DEFAULT PAYMENT JAN\"] == 1].shape[0] / test.shape[0])\n",
    "# print(dataset[dataset[\"DEFAULT PAYMENT JAN\"] == 1].shape[0] / dataset.shape[0])\n",
    "X = train.drop([target_col_name], 1)\n",
    "y = train[target_col_name].tolist()\n",
    "X_test = test.drop([target_col_name], 1)\n",
    "y_test = test[target_col_name].tolist()\n",
    "print(X.shape)\n",
    "print(X_test.shape)"
   ]
  },
  {
   "cell_type": "code",
   "execution_count": 36,
   "metadata": {
    "collapsed": false
   },
   "outputs": [
    {
     "data": {
      "image/png": "[encoded data removed]",
      "text/plain": [
       "<matplotlib.figure.Figure at 0x213a2828860>"
      ]
     },
     "metadata": {},
     "output_type": "display_data"
    },
    {
     "name": "stdout",
     "output_type": "stream",
     "text": [
      "cumsum_tresh = 0.99, n_components = 13\n"
     ]
    },
    {
     "data": {
      "image/png": "[encoded data removed]",
      "text/plain": [
       "<matplotlib.figure.Figure at 0x213a1900898>"
      ]
     },
     "metadata": {},
     "output_type": "display_data"
    },
    {
     "data": {
      "image/png": "[encoded data removed]",
      "text/plain": [
       "<matplotlib.figure.Figure at 0x213a2a1f208>"
      ]
     },
     "metadata": {},
     "output_type": "display_data"
    }
   ],
   "source": [
    "from sklearn.decomposition import PCA\n",
    "pca = PCA(whiten=True)\n",
    "pca.fit(X)\n",
    "cumsum = pca.explained_variance_ratio_.cumsum()\n",
    "\n",
    "cumsum = sorted(list(cumsum))\n",
    "import matplotlib.pyplot as plt\n",
    "import numpy as np\n",
    "np.random.seed(random_state)\n",
    "plt.figure(1)\n",
    "plt.plot(cumsum, label='Cumsum')\n",
    "plt.xlabel('N Components')\n",
    "plt.ylabel('Cumsum')\n",
    "plt.title('PCA Cumsum')\n",
    "plt.legend(loc='best')\n",
    "plt.show()\n",
    "cumsum_tresh = 0.99\n",
    "for i in np.arange(0,len(cumsum)):\n",
    "    if cumsum[i] >= cumsum_tresh:\n",
    "        break\n",
    "n_components = i\n",
    "print('cumsum_tresh = {}, n_components = {}'.format(cumsum_tresh, n_components))\n",
    "# pca = PCA(whiten=True, n_components=n_components)\n",
    "# pca.fit(X)\n",
    "# X = pca.transform(X)\n",
    "# X_test = pca.transform(X_test)\n",
    "\n",
    "pca = PCA(whiten=True, n_components=2)\n",
    "pca.fit(X)\n",
    "colors = {0:'r', 1:'b'}\n",
    "df = pd.DataFrame(pca.transform(X))\n",
    "fig, ax = plt.subplots()\n",
    "ax.scatter(df[0], df[1], c=pd.DataFrame(y)[0].apply(lambda x: colors[x]), s=1)\n",
    "plt.show()\n",
    "df = pd.DataFrame(pca.transform(X_test))\n",
    "fig, ax = plt.subplots()\n",
    "ax.scatter(df[0], df[1], c=pd.DataFrame(y)[0].apply(lambda x: colors[x]), s=1)\n",
    "plt.show()"
   ]
  },
  {
   "cell_type": "code",
   "execution_count": 37,
   "metadata": {
    "collapsed": false
   },
   "outputs": [
    {
     "name": "stdout",
     "output_type": "stream",
     "text": [
      "Defined functions\n"
     ]
    }
   ],
   "source": [
    "from sklearn.model_selection import StratifiedKFold\n",
    "cv=StratifiedKFold(n_splits=10, random_state=random_state, shuffle=True)\n",
    "from sklearn.metrics import make_scorer, confusion_matrix\n",
    "\n",
    "def cost_matrix(y, y_pred):\n",
    "    cm = confusion_matrix(y, y_pred)\n",
    "    # first index true\n",
    "    # second index predicted\n",
    "    return cm[0][0] * 0 + cm[0][1] * 1 + cm[1][0] * 5 + cm[1][1] * 0\n",
    "ms = make_scorer(cost_matrix, greater_is_better=False)\n",
    "\n",
    "def test_clf(X, y, y_pred, X_test, y_test, y_pred_test):\n",
    "    from sklearn.metrics import f1_score\n",
    "    f1_train = f1_score(y, y_pred)  \n",
    "    f1_test = f1_score(y_test, y_pred_test)\n",
    "    print('f1_train = {:3f}\\t f1_test = {:3f}'.format(f1_train, f1_test))\n",
    "    cost_train = cost_matrix(y, y_pred)\n",
    "    cost_test = cost_matrix(y_test, y_pred_test)\n",
    "    print('cost_train = {}\\t cost_test = {}'.format(format(cost_train, ','), format(cost_test, ',')))\n",
    "    from sklearn.metrics import confusion_matrix\n",
    "    cm_train = confusion_matrix(y, y_pred)\n",
    "    cm_test = confusion_matrix(y_test, y_pred_test)\n",
    "    print('cm_train = \\n{}\\ncm_test = \\n{}'.format(cm_train, cm_test))\n",
    "    \n",
    "print('Defined functions')"
   ]
  },
  {
   "cell_type": "code",
   "execution_count": 38,
   "metadata": {
    "collapsed": false,
    "scrolled": true
   },
   "outputs": [
    {
     "name": "stdout",
     "output_type": "stream",
     "text": [
      "f1_train = 0.220658\t f1_test = 0.224531\n",
      "cost_train = 18,618\t cost_test = 9,136\n",
      "cm_train = \n",
      "[[10932  3098]\n",
      " [ 3104   878]]\n",
      "cm_test = \n",
      "[[5369 1541]\n",
      " [1519  443]]\n"
     ]
    }
   ],
   "source": [
    "from sklearn.dummy import DummyClassifier\n",
    "clf = DummyClassifier(random_state=random_state)\n",
    "clf.fit(X, y)\n",
    "test_clf(X, y, clf.predict(X), X_test, y_test, clf.predict(X_test))"
   ]
  },
  {
   "cell_type": "code",
   "execution_count": 40,
   "metadata": {
    "collapsed": false
   },
   "outputs": [
    {
     "name": "stdout",
     "output_type": "stream",
     "text": [
      "f1_train = 0.496021\t f1_test = 0.436639\n",
      "cost_train = 12,984\t cost_test = 6,948\n",
      "cm_train = \n",
      "[[13476   554]\n",
      " [ 2486  1496]]\n",
      "cm_test = \n",
      "[[6602  308]\n",
      " [1328  634]]\n"
     ]
    }
   ],
   "source": [
    "from sklearn import svm\n",
    "clf = svm.SVC(random_state=random_state)\n",
    "clf.fit(X, y)\n",
    "test_clf(X, y, clf.predict(X), X_test, y_test, clf.predict(X_test))"
   ]
  },
  {
   "cell_type": "code",
   "execution_count": 60,
   "metadata": {
    "collapsed": false
   },
   "outputs": [
    {
     "name": "stdout",
     "output_type": "stream",
     "text": [
      "f1_train = 0.481723\t f1_test = 0.465717\n",
      "cost_train = 13,200\t cost_test = 6,649\n",
      "cm_train = \n",
      "[[13360   670]\n",
      " [ 2506  1476]]\n",
      "cm_test = \n",
      "[[6556  354]\n",
      " [1259  703]]\n"
     ]
    }
   ],
   "source": [
    "from sklearn import tree\n",
    "clf = tree.DecisionTreeClassifier(random_state=random_state, max_depth=3)\n",
    "clf.fit(X, y)\n",
    "test_clf(X, y, clf.predict(X), X_test, y_test, clf.predict(X_test))"
   ]
  },
  {
   "cell_type": "code",
   "execution_count": 42,
   "metadata": {
    "collapsed": false
   },
   "outputs": [
    {
     "name": "stdout",
     "output_type": "stream",
     "text": [
      "f1_train = 0.953564\t f1_test = 0.437086\n",
      "cost_train = 1,703\t cost_test = 6,908\n",
      "cm_train = \n",
      "[[14012    18]\n",
      " [  337  3645]]\n",
      "cm_test = \n",
      "[[6512  398]\n",
      " [1302  660]]\n"
     ]
    }
   ],
   "source": [
    "from sklearn.ensemble import RandomForestClassifier\n",
    "clf = RandomForestClassifier(random_state=random_state, n_estimators=10)\n",
    "clf.fit(X, y)\n",
    "test_clf(X, y, clf.predict(X), X_test, y_test, clf.predict(X_test))"
   ]
  },
  {
   "cell_type": "code",
   "execution_count": 58,
   "metadata": {
    "collapsed": false
   },
   "outputs": [
    {
     "name": "stdout",
     "output_type": "stream",
     "text": [
      "GridSearchCV done\n"
     ]
    }
   ],
   "source": [
    "from sklearn.linear_model import LogisticRegression\n",
    "from sklearn.model_selection import GridSearchCV\n",
    "cv=StratifiedKFold(n_splits=10, random_state=random_state, shuffle=True)\n",
    "\n",
    "#parameters = {'C': [1e-4, 1e-3, 1e-2, 1e-1, 1, 1e2, 1e3, 1e4]}\n",
    "#clf = LogisticRegression(penalty='l2', class_weight='balanced', fit_intercept=True, random_state=random_state, n_jobs=1)\n",
    "\n",
    "#parameters = {'max_depth': np.arange(1,30)}\n",
    "#clf = tree.DecisionTreeClassifier(random_state=random_state)\n",
    "\n",
    "parameters = {'C': [1e-4, 1e-3, 1e-2, 1e-1, 1, 1e2, 1e3, 1e4]}\n",
    "clf = svm.SVC(random_state=random_state)\n",
    "\n",
    "#parameters = {'n_estimators': np.arange(95,105)}\n",
    "#clf = RandomForestClassifier(random_state=random_state)\n",
    "\n",
    "scoring_name = 'f1'\n",
    "n_jobs = -1\n",
    "if scoring_name == ms:\n",
    "    n_jobs = 1\n",
    "gscv = GridSearchCV(estimator=clf, param_grid=parameters, n_jobs=n_jobs, cv=cv, scoring=scoring_name)\n",
    "gscv.fit(X, y)\n",
    "print('GridSearchCV done')"
   ]
  },
  {
   "cell_type": "code",
   "execution_count": 59,
   "metadata": {
    "collapsed": false
   },
   "outputs": [
    {
     "data": {
      "image/png": "[encoded data removed]",
      "text/plain": [
       "<matplotlib.figure.Figure at 0x213a18316d8>"
      ]
     },
     "metadata": {},
     "output_type": "display_data"
    },
    {
     "name": "stdout",
     "output_type": "stream",
     "text": [
      "{'max_depth': 3}\n"
     ]
    }
   ],
   "source": [
    "plt.figure(1)\n",
    "if scoring_name == ms:\n",
    "    scoring_name = 'Cost'\n",
    "#plt.plot(parameters['n_estimators'], gscv.cv_results_['mean_tes0t_score'], label=scoring_name)\n",
    "#plt.plot(parameters['C'], gscv.cv_results_['mean_test_score'], label=scoring_name)\n",
    "#plt.semilogx(parameters['C'], gscv.cv_results_['mean_test_score'], label=scoring_name)\n",
    "plt.plot(parameters['max_depth'], gscv.cv_results_['mean_test_score'], label=scoring_name)\n",
    "plt.xlabel('C')\n",
    "plt.ylabel(scoring_name)\n",
    "plt.title('CV ' + scoring_name)\n",
    "plt.legend(loc='best')\n",
    "plt.show()\n",
    "print(gscv.best_params_)"
   ]
  },
  {
   "cell_type": "code",
   "execution_count": 61,
   "metadata": {
    "collapsed": false
   },
   "outputs": [
    {
     "name": "stdout",
     "output_type": "stream",
     "text": [
      "[[ 0.07467546  0.16882397 -0.11610375  0.17629028  0.17796214  0.51618915\n",
      "   0.09200456  0.0521353   0.03300965  0.03738677 -0.00198916 -0.16636286\n",
      "  -0.00414057  0.08120092  0.00404949 -0.00922323 -0.00382573 -0.03377163\n",
      "  -0.03712897 -0.01298398 -0.01295582 -0.01840974  0.00258461  0.12424757]]\n",
      "f1_train = 0.481153\t f1_test = 0.483589\n",
      "cost_train = 11,281\t cost_test = 5,527\n",
      "cm_train = \n",
      "[[10054  3976]\n",
      " [ 1461  2521]]\n",
      "cm_test = \n",
      "[[4968 1942]\n",
      " [ 717 1245]]\n"
     ]
    },
    {
     "data": {
      "image/png": "[encoded data removed]",
      "text/plain": [
       "<matplotlib.figure.Figure at 0x213a27aa5c0>"
      ]
     },
     "metadata": {},
     "output_type": "display_data"
    }
   ],
   "source": [
    "from sklearn.linear_model import LogisticRegression\n",
    "# l1 0.01 balanced f1_test = 0.485282\n",
    "# l2 0.01 balanced f1_test = 0.480262\n",
    "clf = LogisticRegression(penalty='l2', C=0.1, class_weight='balanced', fit_intercept=True, random_state=random_state, n_jobs=-1)\n",
    "clf.fit(X, y)\n",
    "print(clf.coef_)\n",
    "test_clf(X, y, clf.predict(X), X_test, y_test, clf.predict(X_test))\n",
    "\n",
    "from sklearn.metrics import roc_curve, auc\n",
    "\n",
    "y_score = clf.decision_function(X_test)\n",
    "# Compute ROC curve and ROC area for each class\n",
    "fpr, tpr, t = roc_curve(y_test, y_score)\n",
    "roc_auc = auc(fpr, tpr)\n",
    "\n",
    "# t_sigm = 1 / (1 + np.exp(-t))\n",
    "\n",
    "plt.figure()\n",
    "lw = 2\n",
    "plt.plot(fpr, tpr, color='darkorange', lw=lw, label='ROC curve (area = %0.2f)' % roc_auc)\n",
    "plt.plot([0, 1], [0, 1], color='navy', lw=lw, linestyle='--')\n",
    "plt.xlim([-0.05, 1.05])\n",
    "plt.ylim([-0.05, 1.05])\n",
    "plt.xlabel('False Positive Rate')\n",
    "plt.ylabel('True Positive Rate')\n",
    "plt.title('Receiver operating characteristic example')\n",
    "plt.legend(loc=\"lower right\")\n",
    "plt.show()"
   ]
  },
  {
   "cell_type": "code",
   "execution_count": null,
   "metadata": {
    "collapsed": false
   },
   "outputs": [],
   "source": [
    "# clf = clf.fit(train_features, train_target)\n",
    "from sklearn.model_selection import cross_val_score\n",
    "from sklearn.model_selection import StratifiedKFold\n",
    "cv=StratifiedKFold(n_splits=10, random_state=random_state, shuffle=True)\n",
    "# scores_nstkfold = cross_val_score(clf, train_features, train_target, cv=10)\n",
    "scores_stkfold = cross_val_score(clf, train_features, train_target, scoring='f1', cv=cv)\n",
    "predicted_f1_test = scores_stkfold.mean()"
   ]
  },
  {
   "cell_type": "code",
   "execution_count": null,
   "metadata": {
    "collapsed": true
   },
   "outputs": [],
   "source": [
    "target = pd.read_csv(\"./common/target.csv\")\n",
    "target = target.drop([target_col_name], 1)\n",
    "target_nan = target[pd.isnull(target).any(axis=1)]"
   ]
  }
 ],
 "metadata": {
  "kernelspec": {
   "display_name": "Python 3",
   "language": "python",
   "name": "python3"
  },
  "language_info": {
   "codemirror_mode": {
    "name": "ipython",
    "version": 3
   },
   "file_extension": ".py",
   "mimetype": "text/x-python",
   "name": "python",
   "nbconvert_exporter": "python",
   "pygments_lexer": "ipython3",
   "version": "3.6.0"
  }
 },
 "nbformat": 4,
 "nbformat_minor": 2
}
